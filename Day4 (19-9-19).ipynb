{
 "cells": [
  {
   "cell_type": "markdown",
   "metadata": {},
   "source": [
    "## String Functions"
   ]
  },
  {
   "cell_type": "code",
   "execution_count": 2,
   "metadata": {},
   "outputs": [
    {
     "name": "stdout",
     "output_type": "stream",
     "text": [
      "PYTHON\n",
      "python\n"
     ]
    }
   ],
   "source": [
    "s1 = 'python'\n",
    "print(s1 .upper())\n",
    "print(s1.lower())"
   ]
  },
  {
   "cell_type": "markdown",
   "metadata": {},
   "source": [
    "### String Boolean Functions\n",
    "- True or False\n",
    "- islower() -- True if the string have all characters lower case\n",
    "- isupper() -- True if the string have all chracters upper case\n",
    "- istitle() -- True if the string title case\n",
    "- isnumeric() -- True if the sring is numeric\n",
    "- isalpha() -- True if the string is only alphabets\n",
    "- isspace() -- True if the string is space"
   ]
  },
  {
   "cell_type": "code",
   "execution_count": 4,
   "metadata": {},
   "outputs": [
    {
     "name": "stdout",
     "output_type": "stream",
     "text": [
      "True\n",
      "False\n"
     ]
    }
   ],
   "source": [
    "s1 = \"python\"\n",
    "print(s1.islower())\n",
    "print(s1.isupper())"
   ]
  },
  {
   "cell_type": "code",
   "execution_count": 16,
   "metadata": {},
   "outputs": [
    {
     "name": "stdout",
     "output_type": "stream",
     "text": [
      "False\n"
     ]
    }
   ],
   "source": [
    "s1 = \"python programming\"\n",
    "print(s1.istitle())"
   ]
  },
  {
   "cell_type": "code",
   "execution_count": 8,
   "metadata": {},
   "outputs": [
    {
     "name": "stdout",
     "output_type": "stream",
     "text": [
      "True\n",
      "False\n"
     ]
    }
   ],
   "source": [
    "s1 = \"123456\"\n",
    "s2 = \"py1213\"\n",
    "print(s1.isnumeric())\n",
    "print(s2.isnumeric())"
   ]
  },
  {
   "cell_type": "code",
   "execution_count": 9,
   "metadata": {},
   "outputs": [
    {
     "name": "stdout",
     "output_type": "stream",
     "text": [
      "False\n",
      "True\n"
     ]
    }
   ],
   "source": [
    "s1 = \"py123456\"\n",
    "s2 = \"python\"\n",
    "print(s1.isalpha())\n",
    "print(s2.isalpha())\n"
   ]
  },
  {
   "cell_type": "code",
   "execution_count": 17,
   "metadata": {},
   "outputs": [
    {
     "name": "stdout",
     "output_type": "stream",
     "text": [
      "True\n",
      "False\n"
     ]
    }
   ],
   "source": [
    "s1 = \" \"\n",
    "s2 = \" 1 2 3\"\n",
    "print(s1.isspace())\n",
    "print(s2.isspace())"
   ]
  },
  {
   "cell_type": "markdown",
   "metadata": {},
   "source": [
    "### String Methods\n",
    "- split() --returns the list of strings seperated by whitespace\n",
    "- repalce() -- returns the string repalce by word/character\n",
    "- join() -- Concatination of two strings"
   ]
  },
  {
   "cell_type": "code",
   "execution_count": 11,
   "metadata": {},
   "outputs": [
    {
     "name": "stdout",
     "output_type": "stream",
     "text": [
      "['Python Progr', 'mming Le', 'rn M', 'de E', 'sy']\n"
     ]
    }
   ],
   "source": [
    "s1 = \"Python Programming Learn Made Easy\"\n",
    "li = s1.split('a')\n",
    "print(li)"
   ]
  },
  {
   "cell_type": "code",
   "execution_count": 15,
   "metadata": {},
   "outputs": [
    {
     "name": "stdout",
     "output_type": "stream",
     "text": [
      "['Python', 'Programming', 'Learn', 'Made', 'Easy']\n"
     ]
    }
   ],
   "source": [
    "s1 = \"Python Programming Learn Made Easy\"\n",
    "print (s1.split())  \n"
   ]
  },
  {
   "cell_type": "code",
   "execution_count": 23,
   "metadata": {},
   "outputs": [
    {
     "name": "stdout",
     "output_type": "stream",
     "text": [
      "Pytho$ Programmi$g Lear$ Made Easy\n"
     ]
    }
   ],
   "source": [
    "s1 = \"Python Programming Learn Made Easy\"\n",
    "\n",
    "print (s1.replace('n','$'))"
   ]
  },
  {
   "cell_type": "code",
   "execution_count": 26,
   "metadata": {},
   "outputs": [
    {
     "name": "stdout",
     "output_type": "stream",
     "text": [
      "p y t h o n\n"
     ]
    }
   ],
   "source": [
    "s1 = \"python\"\n",
    "print(\" \".join(s1))"
   ]
  },
  {
   "cell_type": "markdown",
   "metadata": {},
   "source": [
    "### String Formatting\n",
    "- Classic Version\n",
    "- Current Version Python"
   ]
  },
  {
   "cell_type": "code",
   "execution_count": 34,
   "metadata": {},
   "outputs": [
    {
     "name": "stdout",
     "output_type": "stream",
     "text": [
      "Python Programming\n"
     ]
    }
   ],
   "source": [
    "# Classic Version (C or C++)\n",
    "li = [\"Python\",\"Programming\"]\n",
    "print('%s %s' %(li[0],li[1])"
   ]
  },
  {
   "cell_type": "code",
   "execution_count": 36,
   "metadata": {},
   "outputs": [
    {
     "name": "stdout",
     "output_type": "stream",
     "text": [
      "1 2 3 4\n"
     ]
    }
   ],
   "source": [
    "li = [1,2,3,4]\n",
    "print('%d %d %d %d' %(li[0],li[1],li[2],li[3]))"
   ]
  },
  {
   "cell_type": "code",
   "execution_count": 39,
   "metadata": {},
   "outputs": [
    {
     "name": "stdout",
     "output_type": "stream",
     "text": [
      "List Item 0 : python \n",
      "List Item 1 : programming\n"
     ]
    }
   ],
   "source": [
    "# format\n",
    "li = [\"python\",\"programming\"]\n",
    "print(\"List Item 0 : {0} \\nList Item 1 : {1}\".format(li[0],li[1]))"
   ]
  },
  {
   "cell_type": "code",
   "execution_count": 54,
   "metadata": {},
   "outputs": [
    {
     "name": "stdout",
     "output_type": "stream",
     "text": [
      "1 2 3 4\n"
     ]
    }
   ],
   "source": [
    "li = [1,2,3,4]\n",
    "print('{0} {1} {2} {3}'.format(li[0],li[1],li[2],li[3]))\n"
   ]
  },
  {
   "cell_type": "markdown",
   "metadata": {},
   "source": [
    "### Dictionaries\n",
    "- it works on the concept of unique data\n",
    "- key, value is the unique identifier a value\n",
    "- each key is seperated from value colon(:)\n",
    "- each key and value is seperated by comma(,)\n",
    "- dictionaries are enclosed with curly brackets({})"
   ]
  },
  {
   "cell_type": "code",
   "execution_count": 41,
   "metadata": {},
   "outputs": [
    {
     "name": "stdout",
     "output_type": "stream",
     "text": [
      "{'Name': 'Gitam', 'EmailID': 'gitamVizag@gmail.com', 'Address': 'Vizag'}\n"
     ]
    }
   ],
   "source": [
    "d1 = {\"Name\": \"Gitam\",\"EmailID\":\"gitamVizag@gmail.com\",\"Address\":\"Vizag\"}\n",
    "print(d1)      \n",
    "      \n"
   ]
  },
  {
   "cell_type": "code",
   "execution_count": 42,
   "metadata": {},
   "outputs": [
    {
     "data": {
      "text/plain": [
       "'gitamVizag@gmail.com'"
      ]
     },
     "execution_count": 42,
     "metadata": {},
     "output_type": "execute_result"
    }
   ],
   "source": [
    "d1[\"EmailID\"] # Access the specific key value"
   ]
  },
  {
   "cell_type": "code",
   "execution_count": 43,
   "metadata": {},
   "outputs": [
    {
     "name": "stdout",
     "output_type": "stream",
     "text": [
      "{'Name': 'Gitam', 'EmailID': 'gitamVizag@hotmail.com', 'Address': 'Vizag'}\n"
     ]
    }
   ],
   "source": [
    "d1[\"EmailID\"] = \"gitamVizag@hotmail.com\"\n",
    "print(d1)"
   ]
  },
  {
   "cell_type": "code",
   "execution_count": 44,
   "metadata": {},
   "outputs": [
    {
     "data": {
      "text/plain": [
       "'gitamVizag@hotmail.com'"
      ]
     },
     "execution_count": 44,
     "metadata": {},
     "output_type": "execute_result"
    }
   ],
   "source": [
    "d1[\"EmailID\"]"
   ]
  },
  {
   "cell_type": "code",
   "execution_count": 45,
   "metadata": {},
   "outputs": [
    {
     "name": "stdout",
     "output_type": "stream",
     "text": [
      "dict_keys(['Name', 'EmailID', 'Address'])\n"
     ]
    }
   ],
   "source": [
    "li = d1.keys() # all the keys of dict objects\n",
    "print(li)"
   ]
  },
  {
   "cell_type": "code",
   "execution_count": 46,
   "metadata": {},
   "outputs": [
    {
     "data": {
      "text/plain": [
       "dict_values(['Gitam', 'gitamVizag@hotmail.com', 'Vizag'])"
      ]
     },
     "execution_count": 46,
     "metadata": {},
     "output_type": "execute_result"
    }
   ],
   "source": [
    "d1.values() # all the values of dict object"
   ]
  },
  {
   "cell_type": "code",
   "execution_count": 51,
   "metadata": {},
   "outputs": [],
   "source": [
    "del d1[\"Name\"] # only deletes one key and value"
   ]
  },
  {
   "cell_type": "code",
   "execution_count": 52,
   "metadata": {},
   "outputs": [
    {
     "data": {
      "text/plain": [
       "{'Address': 'Vizag'}"
      ]
     },
     "execution_count": 52,
     "metadata": {},
     "output_type": "execute_result"
    }
   ],
   "source": [
    "d1"
   ]
  },
  {
   "cell_type": "markdown",
   "metadata": {},
   "source": [
    "### Contact Application\n",
    "- Add Contact Details\n",
    "- Search the contact details\n",
    "- List all the contacts ( Merge / Import) \n",
    "    - Name 1: value\n",
    "    - Name 2: value\n",
    "- Modify / Update contacts details\n",
    "- Delete contacts details"
   ]
  },
  {
   "cell_type": "code",
   "execution_count": 53,
   "metadata": {},
   "outputs": [
    {
     "name": "stdout",
     "output_type": "stream",
     "text": [
      "Contact Details are added successfully\n",
      "Contact Details are added successfully\n",
      "Name is already exist\n"
     ]
    }
   ],
   "source": [
    "contacts = {} # Empty  Dict Object\n",
    "# Let's Create a function to Add Contact Details\n",
    "def addContact(name,phone):\n",
    "    if name not in contacts: #Cond to Check name is exists or not\n",
    "        contacts[name] = phone\n",
    "        print('Contact Details are added successfully')\n",
    "    else:\n",
    "        print('Name is already exist')\n",
    "    return\n",
    "addContact('Divya','6745678910')\n",
    "addContact('Priya','89753189021')\n",
    "addContact('Divya','78903451233')\n",
    "\n",
    "              "
   ]
  },
  {
   "cell_type": "code",
   "execution_count": 55,
   "metadata": {},
   "outputs": [
    {
     "name": "stdout",
     "output_type": "stream",
     "text": [
      "Divya  :  6745678910\n",
      "Gitam does not present\n",
      "Priya  :  89753189021\n"
     ]
    }
   ],
   "source": [
    "def searchContact(name):\n",
    "    if name in contacts:\n",
    "        print(name,\" : \",contacts[name])\n",
    "    else:\n",
    "        print('{0} does not present'.format(name))\n",
    "        # print('%s does not present' % name)\n",
    "    return\n",
    "searchContact('Divya')\n",
    "searchContact('Gitam')\n",
    "searchContact('Priya')"
   ]
  },
  {
   "cell_type": "code",
   "execution_count": 57,
   "metadata": {},
   "outputs": [
    {
     "name": "stdout",
     "output_type": "stream",
     "text": [
      "3 Contacts are added\n"
     ]
    }
   ],
   "source": [
    "# Import new contact details\n",
    "# merge the previous details with new details\n",
    "def importContacts(newContacts):\n",
    "    contacts.update(newContacts)\n",
    "    print(len(newContacts.keys()),'Contacts are added')\n",
    "    return\n",
    "newContacts = {'Gitam':889967543,'Bindhu':9595881601,'Vyshu':7766884321}\n",
    "importContacts(newContacts)"
   ]
  },
  {
   "cell_type": "code",
   "execution_count": 60,
   "metadata": {},
   "outputs": [
    {
     "data": {
      "text/plain": [
       "{'Divya': '6745678910',\n",
       " 'Priya': '89753189021',\n",
       " 'Gitam': 889967543,\n",
       " 'Bindhu': 9595881601,\n",
       " 'Vyshu': 63032576179}"
      ]
     },
     "execution_count": 60,
     "metadata": {},
     "output_type": "execute_result"
    }
   ],
   "source": [
    "contacts"
   ]
  },
  {
   "cell_type": "code",
   "execution_count": 59,
   "metadata": {},
   "outputs": [
    {
     "name": "stdout",
     "output_type": "stream",
     "text": [
      "Vyshu Updtaed Successfully\n",
      "Naveen Not exists\n"
     ]
    }
   ],
   "source": [
    "def modifyContact(name,phone):\n",
    "    if name in contacts:\n",
    "        contacts[name] = phone\n",
    "        print(name,'Updtaed Successfully')\n",
    "    else:\n",
    "        print(name,'Not exists')\n",
    "    return\n",
    "modifyContact('Vyshu',63032576179)\n",
    "modifyContact('Naveen',6541234560)"
   ]
  },
  {
   "cell_type": "code",
   "execution_count": 62,
   "metadata": {},
   "outputs": [
    {
     "name": "stdout",
     "output_type": "stream",
     "text": [
      "Vyshu Deleted Successfully\n"
     ]
    }
   ],
   "source": [
    "def deleteContact(name):\n",
    "    if name in contacts:\n",
    "        del contacts[name]\n",
    "        print(name,'Deleted Successfully')\n",
    "    else:\n",
    "        print(name,'Not Present')\n",
    "    return\n",
    "deleteContact('Vyshu')"
   ]
  },
  {
   "cell_type": "code",
   "execution_count": 63,
   "metadata": {},
   "outputs": [
    {
     "data": {
      "text/plain": [
       "{'Divya': '6745678910',\n",
       " 'Priya': '89753189021',\n",
       " 'Gitam': 889967543,\n",
       " 'Bindhu': 9595881601}"
      ]
     },
     "execution_count": 63,
     "metadata": {},
     "output_type": "execute_result"
    }
   ],
   "source": [
    "contacts"
   ]
  },
  {
   "cell_type": "markdown",
   "metadata": {},
   "source": [
    "###    Tuples\n",
    "- Tuples enclosed with parenthesis()\n",
    "###    Differences between Tuples and List\n",
    "         - Lists are mutable -- can be changed / Modify\n",
    "             - Read and Write the data\n",
    "         - Tuples are immutable -- cant be changed / Modified\n",
    "                - Read data only"
   ]
  },
  {
   "cell_type": "code",
   "execution_count": 65,
   "metadata": {},
   "outputs": [
    {
     "name": "stdout",
     "output_type": "stream",
     "text": [
      "(1, 2, 3, 4, 5)\n"
     ]
    }
   ],
   "source": [
    "t1 = (1,2,3,4,5)\n",
    "print(t1)"
   ]
  },
  {
   "cell_type": "code",
   "execution_count": 68,
   "metadata": {},
   "outputs": [
    {
     "name": "stdout",
     "output_type": "stream",
     "text": [
      "['a', 'b', 'c', 'd', 'e']\n"
     ]
    }
   ],
   "source": [
    "x = ['a','b','c','d','e']\n",
    "print(x)\n"
   ]
  },
  {
   "cell_type": "markdown",
   "metadata": {},
   "source": [
    "### Standard Libraries\n",
    "- Regular Expression\n",
    "  - to validate the indian mobile\n",
    "  - to validate the emailid\n",
    "  - to validate the username\n",
    "  - to validate the password\n",
    "- Understanding the regular expression\n",
    "   - [0-9] -- any digit matching\n",
    "   - [a-z] -- any lower case matching\n",
    "   - [A-Z] -- any upper case matching\n",
    "   - Cap symbol is used to represent the start of regular expression\n",
    "   - Dollar symbol is used to represent the end of regular expression \n",
    "   ### website name : regexpal.com"
   ]
  },
  {
   "cell_type": "code",
   "execution_count": 70,
   "metadata": {},
   "outputs": [
    {
     "name": "stdout",
     "output_type": "stream",
     "text": [
      "True\n",
      "False\n"
     ]
    }
   ],
   "source": [
    "# Function to test the two digit number as input\n",
    "# True -- input two digit number\n",
    "# False -- input not a two digit number\n",
    "import re\n",
    "def twoDigitMatching(n):\n",
    "    pattern = '^[0-9]{2}$'\n",
    "    n = str(n)   \n",
    "    if re.match(pattern,n):\n",
    "        return True\n",
    "    return False\n",
    "print(twoDigitMatching(12)) # True\n",
    "print(twoDigitMatching(123)) # False"
   ]
  },
  {
   "cell_type": "code",
   "execution_count": 75,
   "metadata": {},
   "outputs": [
    {
     "name": "stdout",
     "output_type": "stream",
     "text": [
      "True\n",
      "False\n",
      "False\n"
     ]
    }
   ],
   "source": [
    "# regular expression for username\n",
    "# username -- should contains lower and upper case characters\n",
    "# length -- min 5 max 12\n",
    "def validateUsername(s):\n",
    "    pattern = '^[a-zA-z]{5,12}$'\n",
    "    if re.match(pattern,s):\n",
    "        return True\n",
    "    return False\n",
    "print(validateUsername('Gitam'))  #True\n",
    "print(validateUsername('Anil'))   #False\n",
    "print(validateUsername('GitamVizag@pythonprogramming'))  #False"
   ]
  },
  {
   "cell_type": "markdown",
   "metadata": {},
   "source": [
    "###  Regular Expression for Indian Mobile\n",
    "- 10 Digit Number\n",
    "     - First Number is starts from [6-9]\n",
    "     - Rest of 9 numbers is between [0-9]\n",
    "      - Example : 9851741520 # True\n",
    "      - Example : 5978201520 # False\n",
    "- 11 Digit Number  \n",
    "     - First Number is starts from 0\n",
    "     - Second Number can be [6-9]\n",
    "     - Rest of 10 numbers is between [0-9]\n",
    "        - Example : 0985174120 # True\n",
    "        - Example : 9985174120 # False\n",
    "- 13 Digit Number\n",
    "     - First Number can be +\n",
    "     - Second Number is 9\n",
    "     - Third Number is 1\n",
    "     - Fourth Number [6-9]\n",
    "     - Rest of numbers [0-9]\n",
    "        - Example : +919851741520 # True\n",
    "        - Example : +918855261192 # True\n",
    "     \n",
    "      "
   ]
  },
  {
   "cell_type": "code",
   "execution_count": 76,
   "metadata": {},
   "outputs": [],
   "source": [
    "# rule 1 : ^[6-9][0-9]{9}$\n",
    "# rule 2 : ^[0][6-9][0-9]{9}$\n",
    "# rule 3 : ^[+][9][1][6-9][0-9]{9}$"
   ]
  },
  {
   "cell_type": "code",
   "execution_count": 81,
   "metadata": {},
   "outputs": [
    {
     "data": {
      "text/plain": [
       "True"
      ]
     },
     "execution_count": 81,
     "metadata": {},
     "output_type": "execute_result"
    }
   ],
   "source": [
    "import re\n",
    "def validateIndianPhone(n):\n",
    "    pattern = '^[6-9][0-9{9}$]|^[0][6-9][0-9]{9}$|^[+][9][1][6-9][0-9]{9}$'\n",
    "    n = str(n)\n",
    "    if re.match(pattern,n):\n",
    "        return True\n",
    "    return False\n",
    "validateIndianPhone('+919851741520')"
   ]
  },
  {
   "cell_type": "markdown",
   "metadata": {},
   "source": [
    "### Validate the EmailID\n",
    "- Example: Username@DomainName.extension\n",
    "- Example: dsps@gmail.com\n",
    "- Username:\n",
    "     - Len of string will be [6-15]\n",
    "       - No spl characters except Underscore(_) and Dot (.)\n",
    "       -  All characters set Digits,Lower Case and Upper Case\n",
    "         - Example : Anil_1889\n",
    "- Domainame:\n",
    "     - Len of string will be [3-18]\n",
    "      - No spls characters\n",
    "      - Characters set Digits,Lower Case and Upper Case\n",
    "          - Example : gamil,hotmail,ymail,rediff anf etc..\n",
    "- Extensions:\n",
    "     - Len of string will be [2-4]\n",
    "     - No spl characters allowed\n",
    "      - Character set will Lower Case characters\n",
    "           - Example: com in au uk\n",
    "         "
   ]
  },
  {
   "cell_type": "code",
   "execution_count": null,
   "metadata": {},
   "outputs": [],
   "source": [
    "# Username RE : [0-9a-zA-Z][0-9a-zA-Z_.]{5,14}\n",
    "# Domain name RE :[a-z0-9]{3,18}\n",
    "#  Extension RE : [a-z]{2,4}\n",
    "# EmailId RE : ^[0-9a-zA-Z][0-9a-zA-Z_.]{5,14}@[a-z0-9]{3,18}[.][a-z]{2,4}$"
   ]
  },
  {
   "cell_type": "code",
   "execution_count": 82,
   "metadata": {},
   "outputs": [
    {
     "data": {
      "text/plain": [
       "True"
      ]
     },
     "execution_count": 82,
     "metadata": {},
     "output_type": "execute_result"
    }
   ],
   "source": [
    "def validateEmail(email):\n",
    "    pattern = '^[0-9a-zA-Z][0-9a-zA-Z_.]{5,14}@[a-z0-9]{3,18}[.][a-z]{2,4}$'\n",
    "    if re.match(pattern,email):\n",
    "        return True\n",
    "    return False\n",
    "validateEmail('anilkumar1889@hotmail.com')"
   ]
  },
  {
   "cell_type": "markdown",
   "metadata": {},
   "source": [
    "### Python Graphics\n",
    "- Lib - turtle"
   ]
  },
  {
   "cell_type": "code",
   "execution_count": 2,
   "metadata": {},
   "outputs": [
    {
     "ename": "AttributeError",
     "evalue": "module 'turtle' has no attribute 'Turtle'",
     "output_type": "error",
     "traceback": [
      "\u001b[1;31m---------------------------------------------------------------------------\u001b[0m",
      "\u001b[1;31mAttributeError\u001b[0m                            Traceback (most recent call last)",
      "\u001b[1;32m<ipython-input-2-42fd4944bcdf>\u001b[0m in \u001b[0;36m<module>\u001b[1;34m\u001b[0m\n\u001b[1;32m----> 1\u001b[1;33m \u001b[1;32mimport\u001b[0m \u001b[0mturtle\u001b[0m\u001b[1;33m\u001b[0m\u001b[1;33m\u001b[0m\u001b[0m\n\u001b[0m\u001b[0;32m      2\u001b[0m \u001b[0ma\u001b[0m \u001b[1;33m=\u001b[0m \u001b[0mturtle\u001b[0m\u001b[1;33m.\u001b[0m\u001b[0mTurtle\u001b[0m\u001b[1;33m(\u001b[0m\u001b[1;33m)\u001b[0m\u001b[1;33m\u001b[0m\u001b[1;33m\u001b[0m\u001b[0m\n\u001b[0;32m      3\u001b[0m \u001b[0ma\u001b[0m\u001b[1;33m.\u001b[0m\u001b[0mforward\u001b[0m\u001b[1;33m(\u001b[0m\u001b[1;36m50\u001b[0m\u001b[1;33m)\u001b[0m\u001b[1;33m\u001b[0m\u001b[1;33m\u001b[0m\u001b[0m\n\u001b[0;32m      4\u001b[0m \u001b[0mturtle\u001b[0m\u001b[1;33m.\u001b[0m\u001b[0mdone\u001b[0m\u001b[1;33m(\u001b[0m\u001b[1;33m)\u001b[0m\u001b[1;33m\u001b[0m\u001b[1;33m\u001b[0m\u001b[0m\n",
      "\u001b[1;32m~\\Python\\turtle.py\u001b[0m in \u001b[0;36m<module>\u001b[1;34m\u001b[0m\n\u001b[0;32m      3\u001b[0m \u001b[1;32mimport\u001b[0m \u001b[0mturtle\u001b[0m\u001b[1;33m\u001b[0m\u001b[1;33m\u001b[0m\u001b[0m\n\u001b[0;32m      4\u001b[0m \u001b[1;31m# create a new turtle\u001b[0m\u001b[1;33m\u001b[0m\u001b[1;33m\u001b[0m\u001b[1;33m\u001b[0m\u001b[0m\n\u001b[1;32m----> 5\u001b[1;33m \u001b[0ma1\u001b[0m \u001b[1;33m=\u001b[0m \u001b[0mturtle\u001b[0m\u001b[1;33m.\u001b[0m\u001b[0mTurtle\u001b[0m\u001b[1;33m(\u001b[0m\u001b[1;33m)\u001b[0m\u001b[1;33m\u001b[0m\u001b[1;33m\u001b[0m\u001b[0m\n\u001b[0m\u001b[0;32m      6\u001b[0m \u001b[1;31m# Draw a line\u001b[0m\u001b[1;33m\u001b[0m\u001b[1;33m\u001b[0m\u001b[1;33m\u001b[0m\u001b[0m\n\u001b[0;32m      7\u001b[0m \u001b[0ma1\u001b[0m\u001b[1;33m.\u001b[0m\u001b[0mforward\u001b[0m\u001b[1;33m(\u001b[0m\u001b[1;36m100\u001b[0m\u001b[1;33m)\u001b[0m\u001b[1;33m\u001b[0m\u001b[1;33m\u001b[0m\u001b[0m\n",
      "\u001b[1;31mAttributeError\u001b[0m: module 'turtle' has no attribute 'Turtle'"
     ]
    }
   ],
   "source": [
    "import turtle\n",
    "a = turtle.Turtle()\n",
    "a.forward(50)\n",
    "turtle.done()"
   ]
  },
  {
   "cell_type": "markdown",
   "metadata": {},
   "source": [
    "### Package,Module and Sub Package\n",
    "#### Package\n",
    "  - A collection of modules"
   ]
  },
  {
   "cell_type": "code",
   "execution_count": 4,
   "metadata": {},
   "outputs": [
    {
     "data": {
      "text/plain": [
       "123"
      ]
     },
     "execution_count": 4,
     "metadata": {},
     "output_type": "execute_result"
    }
   ],
   "source": [
    "import math # Imports all the function into python progarms\n",
    "math.floor(123.456)"
   ]
  },
  {
   "cell_type": "code",
   "execution_count": 6,
   "metadata": {},
   "outputs": [
    {
     "data": {
      "text/plain": [
       "124"
      ]
     },
     "execution_count": 6,
     "metadata": {},
     "output_type": "execute_result"
    }
   ],
   "source": [
    "math.ceil(123.456)"
   ]
  },
  {
   "cell_type": "code",
   "execution_count": 8,
   "metadata": {},
   "outputs": [
    {
     "data": {
      "text/plain": [
       "3628800"
      ]
     },
     "execution_count": 8,
     "metadata": {},
     "output_type": "execute_result"
    }
   ],
   "source": [
    "from math import factorial as fact # will imports only specific function\n",
    "# as fact alias name\n",
    "fact(10)"
   ]
  },
  {
   "cell_type": "code",
   "execution_count": 11,
   "metadata": {},
   "outputs": [
    {
     "name": "stdout",
     "output_type": "stream",
     "text": [
      "37 67 84 68 21 59 78 62 39 37 "
     ]
    }
   ],
   "source": [
    "# Import random package\n",
    "import random\n",
    "# Function to generate the N Numbers in given range\n",
    "def generateRandNum(n,lb,ub):\n",
    "    for i in range(0,n):\n",
    "        print(random.randint(lb,ub),end=' ')\n",
    "    return\n",
    "generateRandNum(10,0,100)   \n"
   ]
  },
  {
   "cell_type": "code",
   "execution_count": 13,
   "metadata": {},
   "outputs": [
    {
     "data": {
      "text/plain": [
       "5"
      ]
     },
     "execution_count": 13,
     "metadata": {},
     "output_type": "execute_result"
    }
   ],
   "source": [
    "from math import gcd as gcd\n",
    "gcd(10,15)"
   ]
  },
  {
   "cell_type": "code",
   "execution_count": 14,
   "metadata": {},
   "outputs": [],
   "source": [
    "# create a simple game\n",
    "# Try to generate 20 numbers\n",
    "# Input : Number\n",
    "# present : congrats!!\n",
    "# Not present : Try again"
   ]
  },
  {
   "cell_type": "code",
   "execution_count": 2,
   "metadata": {},
   "outputs": [
    {
     "name": "stdout",
     "output_type": "stream",
     "text": [
      "Try again\n"
     ]
    }
   ],
   "source": [
    "from random import randint as rdint\n",
    "def generateNumber(n,lb,ub):\n",
    "    li =[]\n",
    "    for i in range(0,n):\n",
    "        li.append(rdint(lb,ub))\n",
    "        return li\n",
    "def check(n):\n",
    "    li = generateNumber(20,100,999)\n",
    "    if n in li:\n",
    "        print(\"Congrats!!\")\n",
    "    else:\n",
    "        print(\"Try again\")\n",
    "        return\n",
    "check(591)\n",
    "    "
   ]
  },
  {
   "cell_type": "code",
   "execution_count": null,
   "metadata": {},
   "outputs": [],
   "source": [
    "# Draw the line reverse direction\n",
    "import turtle as tt\n",
    "a1 = tt.turtle()\n",
    "a1.backward(150)\n",
    "tt.done()\n"
   ]
  },
  {
   "cell_type": "code",
   "execution_count": null,
   "metadata": {},
   "outputs": [],
   "source": [
    "# Draw the position of line\n",
    "# import the package Turtle\n",
    "# All the commands available in this file\n",
    "import turtle\n",
    "# create a new turtle\n",
    "a1 = turtle.Turtle()\n",
    "#position\n",
    "a1.goto(-100,0)\n",
    "# Draw a line\n",
    "a1.forward(100)\n",
    "# done() -- close the window\n",
    "turtle.done()\n"
   ]
  },
  {
   "cell_type": "code",
   "execution_count": null,
   "metadata": {},
   "outputs": [],
   "source": [
    "# Generate a square\n",
    "import turtle as tt\n",
    "a1 = tt.turtle()\n",
    "a1.forward(150)\n",
    "a1.right(90)\n",
    "a1.forward(150)\n",
    "a1.right(90)\n",
    "a1.forward(150)\n",
    "a1.right(90)\n",
    "a1.forward(150)\n",
    "a1.right(90)\n",
    "tt.done()\n"
   ]
  },
  {
   "cell_type": "code",
   "execution_count": null,
   "metadata": {},
   "outputs": [],
   "source": [
    "# Draw a square using loop\n",
    "import turtle as tt\n",
    "aa = tt.turtle()\n",
    "for i in range(4):\n",
    "    aa.forward(150)\n",
    "    aa.right(90)\n",
    "tt.done()   \n"
   ]
  },
  {
   "cell_type": "code",
   "execution_count": null,
   "metadata": {},
   "outputs": [],
   "source": [
    "# Generate a  Star\n",
    "import turtle as t\n",
    "a1 = t.turtle()\n",
    "for i in range(40):\n",
    "    a1.forward(50)\n",
    "    a1.right(144)\n",
    "t.done()    \n"
   ]
  },
  {
   "cell_type": "code",
   "execution_count": null,
   "metadata": {},
   "outputs": [],
   "source": []
  }
 ],
 "metadata": {
  "kernelspec": {
   "display_name": "Python 3",
   "language": "python",
   "name": "python3"
  },
  "language_info": {
   "codemirror_mode": {
    "name": "ipython",
    "version": 3
   },
   "file_extension": ".py",
   "mimetype": "text/x-python",
   "name": "python",
   "nbconvert_exporter": "python",
   "pygments_lexer": "ipython3",
   "version": "3.7.3"
  }
 },
 "nbformat": 4,
 "nbformat_minor": 2
}
