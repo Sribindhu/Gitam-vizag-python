{
 "cells": [
  {
   "cell_type": "markdown",
   "metadata": {},
   "source": [
    "### Python and Mathpolib"
   ]
  },
  {
   "cell_type": "code",
   "execution_count": 6,
   "metadata": {},
   "outputs": [
    {
     "name": "stdout",
     "output_type": "stream",
     "text": [
      "        Season  Daynum   Wteam  Wscore   Lteam  Lscore Wloc  Numot\n",
      "0         1985      20  1228.0    81.0  1328.0      64    N      0\n",
      "1         1985      25  1106.0    77.0  1354.0      70    H      0\n",
      "2         1985      25  1112.0    63.0  1223.0      56    H      0\n",
      "3         1985      25  1165.0    70.0  1432.0      54    H      0\n",
      "4         1985      25  1192.0     NaN  1447.0      74    H      0\n",
      "5         1985      25  1218.0    79.0  1337.0      78    H      0\n",
      "6         1985      25  1228.0    64.0  1226.0      44    N      0\n",
      "7         1985      25  1242.0    58.0  1268.0      56    N      0\n",
      "8         1985      25  1260.0    98.0     NaN      80    H      0\n",
      "9         1985      25     NaN    97.0  1424.0      89    H      0\n",
      "10        1985      25  1307.0   103.0  1288.0      71    H      0\n",
      "11        1985      25  1344.0    75.0  1438.0      71    N      0\n",
      "12        1985      25  1374.0    91.0  1411.0      72    H      0\n",
      "13        1985      25  1412.0    70.0  1397.0      65    N      0\n",
      "14        1985      25  1417.0    87.0  1225.0      58    H      0\n",
      "15        1985      26  1116.0    65.0  1368.0      62    H      0\n",
      "16        1985      26  1120.0    92.0  1391.0      50  NaN      0\n",
      "17        1985      26  1135.0    65.0  1306.0      60    A      0\n",
      "18        1985      26  1143.0    58.0  1388.0      53    H      0\n",
      "19        1985      26  1153.0    50.0  1184.0      48    H      0\n",
      "20        1985      26  1165.0    47.0  1159.0       4    A      0\n",
      "21        1985      26  1171.0    55.0  1216.0      52    H      0\n",
      "22        1985      26  1173.0    76.0  1134.0      56    H      0\n",
      "23        1985      26  1177.0    59.0  1296.0      58    H      0\n",
      "24        1985      26  1193.0    79.0  1265.0      76    A      0\n",
      "25        1985      26  1196.0   106.0  1416.0      55    H      0\n",
      "26        1985      26  1206.0    95.0  1137.0      77    H      0\n",
      "27        1985      26  1210.0    79.0  1149.0      66    H      0\n",
      "28        1985      26  1211.0    64.0  1102.0      59    A      0\n",
      "29        1985      26  1234.0    76.0  1114.0      47    H      0\n",
      "...        ...     ...     ...     ...     ...     ...  ...    ...\n",
      "145259    2016     130  1452.0    69.0  1328.0      67    N      0\n",
      "145260    2016     131  1114.0    72.0  1418.0      65    N      0\n",
      "145261    2016     131  1138.0    64.0  1103.0      61    N      0\n",
      "145262    2016     131  1163.0    77.0  1396.0      62    N      0\n",
      "145263    2016     131  1167.0    57.0  1308.0      54    N      0\n",
      "145264    2016     131  1201.0    68.0  1361.0      63    N      0\n",
      "145265    2016     131  1214.0    81.0  1354.0      69    N      0\n",
      "145266    2016     131  1218.0    64.0  1253.0      60    N      0\n",
      "145267    2016     131  1242.0    81.0  1452.0      71    N      0\n",
      "145268    2016     131  1246.0    93.0  1208.0      80    N      0\n",
      "145269    2016     131  1272.0    74.0  1408.0      54    N      0\n",
      "145270    2016     131  1277.0    64.0  1268.0      61    N      0\n",
      "145271    2016     131  1292.0    55.0  1330.0      53    N      0\n",
      "145272    2016     131  1314.0    61.0  1438.0      57    N      0\n",
      "145273    2016     131  1332.0    88.0  1428.0      57    N      0\n",
      "145274    2016     131  1345.0    76.0  1276.0      59    N      0\n",
      "145275    2016     131  1371.0    69.0  1437.0      67    N      0\n",
      "145276    2016     131  1372.0    82.0  1394.0      60    N      0\n",
      "145277    2016     131  1380.0    54.0  1238.0      53    N      0\n",
      "145278    2016     131  1386.0    82.0  1173.0      79    N      0\n",
      "145279    2016     131  1392.0    80.0  1436.0      74    H      0\n",
      "145280    2016     131  1401.0    71.0  1261.0      38    N      0\n",
      "145281    2016     131  1419.0    82.0  1426.0      71    N      0\n",
      "145282    2016     131  1433.0    76.0  1172.0      54    N      0\n",
      "145283    2016     131  1451.0    62.0  1285.0      59    N      0\n",
      "145284    2016     132  1114.0    70.0  1419.0      50    N      0\n",
      "145285    2016     132  1163.0    72.0  1272.0      58    N      0\n",
      "145286    2016     132  1246.0    82.0  1401.0      77    N      1\n",
      "145287    2016     132  1277.0    66.0  1345.0      62    N      0\n",
      "145288    2016     132  1386.0    87.0  1433.0      74    N      0\n",
      "\n",
      "[145289 rows x 8 columns]\n"
     ]
    }
   ],
   "source": [
    "import pandas as pd\n",
    "filePath = r'C:\\Users\\cse319\\Python\\RegularSeasonCompactResults.csv'\n",
    "def readCsvData(filePath):\n",
    "    return pd.read_csv(filePath)\n",
    "df = readCsvData(filePath)\n",
    "print(df)"
   ]
  },
  {
   "cell_type": "markdown",
   "metadata": {},
   "source": [
    "### Group by"
   ]
  },
  {
   "cell_type": "code",
   "execution_count": 7,
   "metadata": {},
   "outputs": [
    {
     "data": {
      "text/plain": [
       "['Season', 'Daynum', 'Wteam', 'Wscore', 'Lteam', 'Lscore', 'Wloc', 'Numot']"
      ]
     },
     "execution_count": 7,
     "metadata": {},
     "output_type": "execute_result"
    }
   ],
   "source": [
    "df.columns.tolist()"
   ]
  },
  {
   "cell_type": "code",
   "execution_count": 24,
   "metadata": {},
   "outputs": [
    {
     "data": {
      "text/plain": [
       "Wteam\n",
       "1460.0    75.531469\n",
       "1461.0    75.170082\n",
       "1462.0    79.906021\n",
       "1463.0    71.720102\n",
       "1464.0    73.926056\n",
       "Name: Wscore, dtype: float64"
      ]
     },
     "execution_count": 24,
     "metadata": {},
     "output_type": "execute_result"
    }
   ],
   "source": [
    "df.groupby('Wteam')['Wscore'].mean().tail()"
   ]
  },
  {
   "cell_type": "code",
   "execution_count": 8,
   "metadata": {},
   "outputs": [
    {
     "data": {
      "text/plain": [
       "Wteam\n",
       "1101.0    78.111111\n",
       "1102.0    69.893204\n",
       "1103.0    75.839768\n",
       "1104.0    75.825944\n",
       "1105.0    74.960894\n",
       "Name: Wscore, dtype: float64"
      ]
     },
     "execution_count": 8,
     "metadata": {},
     "output_type": "execute_result"
    }
   ],
   "source": [
    "df.groupby('Wteam')['Wscore'].mean().head()"
   ]
  },
  {
   "cell_type": "code",
   "execution_count": null,
   "metadata": {},
   "outputs": [],
   "source": [
    "# Where clause to select statement\n",
    "# Group by clause\n"
   ]
  },
  {
   "cell_type": "markdown",
   "metadata": {},
   "source": [
    "### Data Cleaning\n",
    "- whenever you have a lot of missing records values in the given dataset then you can isnull()\n",
    "- isnull() will notify the any missing values in the dataframe\n"
   ]
  },
  {
   "cell_type": "code",
   "execution_count": 9,
   "metadata": {},
   "outputs": [
    {
     "data": {
      "text/plain": [
       "Season    0\n",
       "Daynum    0\n",
       "Wteam     1\n",
       "Wscore    1\n",
       "Lteam     1\n",
       "Lscore    0\n",
       "Wloc      1\n",
       "Numot     0\n",
       "dtype: int64"
      ]
     },
     "execution_count": 9,
     "metadata": {},
     "output_type": "execute_result"
    }
   ],
   "source": [
    "# Entire data set\n",
    "df.isnull().sum()"
   ]
  },
  {
   "cell_type": "code",
   "execution_count": 46,
   "metadata": {},
   "outputs": [
    {
     "data": {
      "text/plain": [
       "1"
      ]
     },
     "execution_count": 46,
     "metadata": {},
     "output_type": "execute_result"
    }
   ],
   "source": [
    "# Only column missing values\n",
    "df['Wteam'].isnull().sum()"
   ]
  },
  {
   "cell_type": "markdown",
   "metadata": {},
   "source": [
    "- **dropna()** This function allows you to drop all or some rows that have missing values \n",
    "- **fillna()** This function allows you to replace the rows that have missing values with the value what you want pass"
   ]
  },
  {
   "cell_type": "code",
   "execution_count": 11,
   "metadata": {},
   "outputs": [
    {
     "data": {
      "text/plain": [
       "(145289, 8)"
      ]
     },
     "execution_count": 11,
     "metadata": {},
     "output_type": "execute_result"
    }
   ],
   "source": [
    "df.shape"
   ]
  },
  {
   "cell_type": "code",
   "execution_count": 12,
   "metadata": {},
   "outputs": [
    {
     "data": {
      "text/plain": [
       "145289"
      ]
     },
     "execution_count": 12,
     "metadata": {},
     "output_type": "execute_result"
    }
   ],
   "source": [
    "len(df)"
   ]
  },
  {
   "cell_type": "code",
   "execution_count": 16,
   "metadata": {},
   "outputs": [],
   "source": [
    "# droping \n",
    "new_df = df.dropna(axis=0,how='any')"
   ]
  },
  {
   "cell_type": "code",
   "execution_count": 18,
   "metadata": {},
   "outputs": [
    {
     "data": {
      "text/plain": [
       "145285"
      ]
     },
     "execution_count": 18,
     "metadata": {},
     "output_type": "execute_result"
    }
   ],
   "source": [
    "len(new_df)"
   ]
  },
  {
   "cell_type": "code",
   "execution_count": 20,
   "metadata": {},
   "outputs": [
    {
     "data": {
      "text/plain": [
       "0         1228.0\n",
       "1         1106.0\n",
       "2         1112.0\n",
       "3         1165.0\n",
       "4         1192.0\n",
       "5         1218.0\n",
       "6         1228.0\n",
       "7         1242.0\n",
       "8         1260.0\n",
       "9            NaN\n",
       "10        1307.0\n",
       "11        1344.0\n",
       "12        1374.0\n",
       "13        1412.0\n",
       "14        1417.0\n",
       "15        1116.0\n",
       "16        1120.0\n",
       "17        1135.0\n",
       "18        1143.0\n",
       "19        1153.0\n",
       "20        1165.0\n",
       "21        1171.0\n",
       "22        1173.0\n",
       "23        1177.0\n",
       "24        1193.0\n",
       "25        1196.0\n",
       "26        1206.0\n",
       "27        1210.0\n",
       "28        1211.0\n",
       "29        1234.0\n",
       "           ...  \n",
       "145259    1452.0\n",
       "145260    1114.0\n",
       "145261    1138.0\n",
       "145262    1163.0\n",
       "145263    1167.0\n",
       "145264    1201.0\n",
       "145265    1214.0\n",
       "145266    1218.0\n",
       "145267    1242.0\n",
       "145268    1246.0\n",
       "145269    1272.0\n",
       "145270    1277.0\n",
       "145271    1292.0\n",
       "145272    1314.0\n",
       "145273    1332.0\n",
       "145274    1345.0\n",
       "145275    1371.0\n",
       "145276    1372.0\n",
       "145277    1380.0\n",
       "145278    1386.0\n",
       "145279    1392.0\n",
       "145280    1401.0\n",
       "145281    1419.0\n",
       "145282    1433.0\n",
       "145283    1451.0\n",
       "145284    1114.0\n",
       "145285    1163.0\n",
       "145286    1246.0\n",
       "145287    1277.0\n",
       "145288    1386.0\n",
       "Name: Wteam, Length: 145289, dtype: float64"
      ]
     },
     "execution_count": 20,
     "metadata": {},
     "output_type": "execute_result"
    }
   ],
   "source": [
    "df['Wteam']"
   ]
  },
  {
   "cell_type": "markdown",
   "metadata": {},
   "source": [
    "### Numpy Library\n",
    "- Processing of N-dimensional arrays\n",
    "- NumPy is an open source library available in python\n",
    "- This is used for math,scientific,data science programming"
   ]
  },
  {
   "cell_type": "code",
   "execution_count": 23,
   "metadata": {},
   "outputs": [
    {
     "name": "stdout",
     "output_type": "stream",
     "text": [
      "[1 2 3 4 5 6]\n",
      "<class 'numpy.ndarray'>\n"
     ]
    }
   ],
   "source": [
    "import numpy as np\n",
    "li = [1,2,3,4,5,6]\n",
    "c1 = np.array(li)\n",
    "print(c1)\n",
    "print(type(c1))"
   ]
  },
  {
   "cell_type": "code",
   "execution_count": 24,
   "metadata": {},
   "outputs": [
    {
     "name": "stdout",
     "output_type": "stream",
     "text": [
      "(6,)\n",
      "int32\n"
     ]
    }
   ],
   "source": [
    "print(c1.shape)\n",
    "print(c1.dtype)"
   ]
  },
  {
   "cell_type": "code",
   "execution_count": 26,
   "metadata": {},
   "outputs": [
    {
     "data": {
      "text/plain": [
       "array([[1, 2, 3],\n",
       "       [4, 5, 6]])"
      ]
     },
     "execution_count": 26,
     "metadata": {},
     "output_type": "execute_result"
    }
   ],
   "source": [
    "a1 = np.array([(1,2,3),(4,5,6)])\n",
    "a1"
   ]
  },
  {
   "cell_type": "code",
   "execution_count": 27,
   "metadata": {},
   "outputs": [
    {
     "name": "stdout",
     "output_type": "stream",
     "text": [
      "(2, 3)\n",
      "int32\n"
     ]
    }
   ],
   "source": [
    "print(a1.shape)\n",
    "print(a1.dtype)"
   ]
  },
  {
   "cell_type": "markdown",
   "metadata": {},
   "source": [
    "### np.zeros() np.ones()\n",
    "- To inititalize the weights during the first iteration of TensorFolw and statistics tasks"
   ]
  },
  {
   "cell_type": "code",
   "execution_count": 28,
   "metadata": {},
   "outputs": [
    {
     "name": "stdout",
     "output_type": "stream",
     "text": [
      "[[0. 0.]\n",
      " [0. 0.]]\n"
     ]
    }
   ],
   "source": [
    "x = np.zeros((2,2)) # dtype as float\n",
    "print(x)"
   ]
  },
  {
   "cell_type": "code",
   "execution_count": 31,
   "metadata": {},
   "outputs": [
    {
     "name": "stdout",
     "output_type": "stream",
     "text": [
      "[[0 0]\n",
      " [0 0]]\n"
     ]
    }
   ],
   "source": [
    "x = np.zeros((2,2),dtype=np.int16)\n",
    "print(x)"
   ]
  },
  {
   "cell_type": "code",
   "execution_count": 38,
   "metadata": {},
   "outputs": [
    {
     "name": "stdout",
     "output_type": "stream",
     "text": [
      "[[1. 1. 1.]\n",
      " [1. 1. 1.]\n",
      " [1. 1. 1.]]\n"
     ]
    }
   ],
   "source": [
    "x1 = np.ones((3,3))\n",
    "print(x1)"
   ]
  },
  {
   "cell_type": "code",
   "execution_count": 40,
   "metadata": {},
   "outputs": [
    {
     "name": "stdout",
     "output_type": "stream",
     "text": [
      "[ 0  1  2  3  4  5  6  7  8  9 10 11 12 13 14]\n"
     ]
    }
   ],
   "source": [
    "x2 = np.arange(15)\n",
    "print(x2)"
   ]
  },
  {
   "cell_type": "code",
   "execution_count": 42,
   "metadata": {},
   "outputs": [
    {
     "name": "stdout",
     "output_type": "stream",
     "text": [
      "[[ 0  1  2]\n",
      " [ 3  4  5]\n",
      " [ 6  7  8]\n",
      " [ 9 10 11]\n",
      " [12 13 14]]\n"
     ]
    }
   ],
   "source": [
    "# Convert the single dimensional to two dimensional array\n",
    "x3 = x2.reshape(5,3)\n",
    "print(x3)"
   ]
  },
  {
   "cell_type": "code",
   "execution_count": null,
   "metadata": {},
   "outputs": [],
   "source": [
    "x3 +10"
   ]
  },
  {
   "cell_type": "code",
   "execution_count": 43,
   "metadata": {},
   "outputs": [
    {
     "name": "stdout",
     "output_type": "stream",
     "text": [
      "[[0.   0.25 0.5 ]\n",
      " [0.75 1.   1.25]\n",
      " [1.5  1.75 2.  ]\n",
      " [2.25 2.5  2.75]\n",
      " [3.   3.25 3.5 ]]\n"
     ]
    }
   ],
   "source": [
    "x4 = x3/4\n",
    "print(x4)"
   ]
  },
  {
   "cell_type": "markdown",
   "metadata": {},
   "source": [
    "### Visualizing Data\n",
    "- An interesting way to display Dataframe\n",
    "- with matplotlib"
   ]
  },
  {
   "cell_type": "code",
   "execution_count": 45,
   "metadata": {},
   "outputs": [
    {
     "data": {
      "text/plain": [
       "<function matplotlib.pyplot.show(*args, **kw)>"
      ]
     },
     "execution_count": 45,
     "metadata": {},
     "output_type": "execute_result"
    },
    {
     "data": {
      "image/png": "[encoded data removed]",
      "text/plain": [
       "<Figure size 288x288 with 1 Axes>"
      ]
     },
     "metadata": {
      "needs_background": "light"
     },
     "output_type": "display_data"
    }
   ],
   "source": [
    "import matplotlib.pyplot as plt\n",
    "a1 = [1,2,3,4]\n",
    "a2 = [5,6,7,8]\n",
    "plt.figure(figsize=(4,4))\n",
    "plt.plot(a1,a2,color='red')\n",
    "plt.xlabel('x-Axis')\n",
    "plt.ylabel('y-Axis')\n",
    "plt.show\n"
   ]
  },
  {
   "cell_type": "code",
   "execution_count": 48,
   "metadata": {},
   "outputs": [
    {
     "data": {
      "image/png": "[encoded data removed]",
      "text/plain": [
       "<Figure size 432x288 with 1 Axes>"
      ]
     },
     "metadata": {
      "needs_background": "light"
     },
     "output_type": "display_data"
    }
   ],
   "source": [
    "marks = [79,82,75,63]\n",
    "avg_marks = [56,72,78,89]\n",
    "divisions = ['A','B','C','D']\n",
    "index = np.arange(len(divisions))\n",
    "plt.bar(divisions,marks,color=\"orange\",width=0.3)\n",
    "plt.show()\n",
    "\n",
    "             \n",
    "             "
   ]
  },
  {
   "cell_type": "code",
   "execution_count": 50,
   "metadata": {},
   "outputs": [
    {
     "data": {
      "image/png": "[encoded data removed]",
      "text/plain": [
       "<Figure size 432x288 with 1 Axes>"
      ]
     },
     "metadata": {
      "needs_background": "light"
     },
     "output_type": "display_data"
    }
   ],
   "source": [
    "plt.barh(divisions,marks,color='purple')\n",
    "plt.show()"
   ]
  },
  {
   "cell_type": "code",
   "execution_count": 53,
   "metadata": {},
   "outputs": [
    {
     "data": {
      "image/png": "[encoded data removed]",
      "text/plain": [
       "<Figure size 432x288 with 1 Axes>"
      ]
     },
     "metadata": {},
     "output_type": "display_data"
    }
   ],
   "source": [
    "lang = ['Python','Java','C','C++']\n",
    "rating = [75,70,55,65]\n",
    "plt.pie(rating,labels = lang,shadow=True,startangle=90,autopct='%1.1f%%')\n",
    "plt.legend(loc='best')\n",
    "plt.show()"
   ]
  },
  {
   "cell_type": "markdown",
   "metadata": {},
   "source": [
    "## Project"
   ]
  },
  {
   "cell_type": "code",
   "execution_count": 2,
   "metadata": {},
   "outputs": [
    {
     "name": "stdout",
     "output_type": "stream",
     "text": [
      "      Unnamed: 0          id  \\\n",
      "0              1   281656475   \n",
      "1              2   281796108   \n",
      "2              3   281940292   \n",
      "3              4   282614216   \n",
      "4              5   282935706   \n",
      "5              6   283619399   \n",
      "6              7   283646709   \n",
      "7              8   284035177   \n",
      "8              9   284666222   \n",
      "9             10   284736660   \n",
      "10            11   284791396   \n",
      "11            12   284815117   \n",
      "12            13   284815942   \n",
      "13            14   284847138   \n",
      "14            15   284862767   \n",
      "15            16   284876795   \n",
      "16            17   284882215   \n",
      "17            18   284910350   \n",
      "18            20   284993459   \n",
      "19            21   285005463   \n",
      "20            22   285946052   \n",
      "21            23   285994151   \n",
      "22            24   286058814   \n",
      "23            25   286070473   \n",
      "24            27   286799607   \n",
      "25            28   286906691   \n",
      "26            29   286911400   \n",
      "27            31   288113403   \n",
      "28            32   288120394   \n",
      "29            33   288419283   \n",
      "...          ...         ...   \n",
      "7167       10995  1182265441   \n",
      "7168       10998  1182331762   \n",
      "7169       11002  1182568288   \n",
      "7170       11010  1183234072   \n",
      "7171       11013  1183260922   \n",
      "7172       11016  1183548754   \n",
      "7173       11019  1183709176   \n",
      "7174       11022  1183856228   \n",
      "7175       11024  1183986102   \n",
      "7176       11027  1184711626   \n",
      "7177       11031  1184800011   \n",
      "7178       11033  1185209084   \n",
      "7179       11035  1185328193   \n",
      "7180       11036  1185365336   \n",
      "7181       11038  1185428381   \n",
      "7182       11040  1185538497   \n",
      "7183       11041  1185580782   \n",
      "7184       11042  1185731859   \n",
      "7185       11043  1185777521   \n",
      "7186       11050  1186108496   \n",
      "7187       11051  1186126548   \n",
      "7188       11060  1186384912   \n",
      "7189       11074  1187128255   \n",
      "7190       11077  1187279979   \n",
      "7191       11079  1187282363   \n",
      "7192       11081  1187617475   \n",
      "7193       11082  1187682390   \n",
      "7194       11087  1187779532   \n",
      "7195       11089  1187838770   \n",
      "7196       11097  1188375727   \n",
      "\n",
      "                                             track_name  size_bytes currency  \\\n",
      "0                                       PAC-MAN Premium   100788224      USD   \n",
      "1                             Evernote - stay organized   158578688      USD   \n",
      "2       WeatherBug - Local Weather, Radar, Maps, Alerts   100524032      USD   \n",
      "3     eBay: Best App to Buy, Sell, Save! Online Shop...   128512000      USD   \n",
      "4                                                 Bible    92774400      USD   \n",
      "5                                      Shanghai Mahjong    10485713      USD   \n",
      "6                PayPal - Send and request money safely   227795968      USD   \n",
      "7                               Pandora - Music & Radio   130242560      USD   \n",
      "8                           PCalc - The Best Calculator    49250304      USD   \n",
      "9                                           Ms. PAC-MAN    70023168      USD   \n",
      "10                            Solitaire by MobilityWare    49618944      USD   \n",
      "11                                     SCRABBLE Premium   227547136      USD   \n",
      "12                 Google – Search made just for mobile   179979264      USD   \n",
      "13                     Bank of America - Mobile Banking   160925696      USD   \n",
      "14                                             FreeCell    55153664      USD   \n",
      "15               TripAdvisor Hotels Flights Restaurants   207907840      USD   \n",
      "16                                             Facebook   389879808      USD   \n",
      "17       Yelp - Nearby Restaurants, Shopping & Services   167407616      USD   \n",
      "18    Shazam - Discover music, artists, videos & lyrics   147093504      USD   \n",
      "19                        Crash Bandicoot Nitro Kart 3D    10735026      USD   \n",
      "20                                               iQuran    70707916      USD   \n",
      "21                                          :) Sudoku +     6169600      USD   \n",
      "22      Yahoo Sports - Teams, Scores, News & Highlights   130583552      USD   \n",
      "23                            Mileage Log | Fahrtenbuch    71203840      USD   \n",
      "24                          Cleartune - Chromatic Tuner    11423008      USD   \n",
      "25            Lifesum – Inspiring healthy lifestyle app   188017664      USD   \n",
      "26                                             Hangman.     4765696      USD   \n",
      "27        iTranslate - Language Translator & Dictionary   287933440      USD   \n",
      "28                                             TouchOSC     4263936      USD   \n",
      "29                                           RadarScope   172772352      USD   \n",
      "...                                                 ...         ...      ...   \n",
      "7167                      脱出ゲーム　わたしをみつけて　-おじいさんとわたしの物語-   177498112      USD   \n",
      "7168                      Escape from the frigid Igloo.    89188352      USD   \n",
      "7169        Talking Santa - Video santa claus calls you    32685056      USD   \n",
      "7170                                          CTFxCmoji    26077184      USD   \n",
      "7171                    Room Escape Game - Santa's Room   143346688      USD   \n",
      "7172                               Rescue the Enchanter   242505728      USD   \n",
      "7173                                 My Diary - 你的名字非官方    18164736      USD   \n",
      "7174  VR Thrills: Roller Coaster 360 (Google Cardboard)   169535488      USD   \n",
      "7175   Santa Kids Hair Salon - Christmas Makeover Games    64244736      USD   \n",
      "7176                                 Human Juggling Cup   184324096      USD   \n",
      "7177                           Again - room escape game    33946624      USD   \n",
      "7178                                  Saloons Unleashed   327731200      USD   \n",
      "7179             Fam — Group video calling for iMessage   113382400      USD   \n",
      "7180                   Laurie Hernandez the Human Emoji    94008320      USD   \n",
      "7181                                               剑倚手游   178160640      USD   \n",
      "7182                                  camera for filter     9362432      USD   \n",
      "7183                                    Survivalcraft 2    57349120      USD   \n",
      "7184                                    剑客情缘-高爆率高掉落天天疯玩   171944960      USD   \n",
      "7185                                     问仙奇遇-新玩法新套装嗨到爆   208026624      USD   \n",
      "7186                 脱出ゲーム - 書道教室 -  \"漢字\"の謎に満ちた部屋からの 脱出    85580800      USD   \n",
      "7187                          Escape Game: illumination    52342784      USD   \n",
      "7188       Demolition Derby Virtual Reality (VR) Racing   168774656      USD   \n",
      "7189                         飞刀传奇-动作武侠热血江湖即时PK传奇（登录爆金装）   537462784      USD   \n",
      "7190                       Add-Ons Studio for Minecraft    22999040      USD   \n",
      "7191                         Plead the Fifth - The Game    27853824      USD   \n",
      "7192                                              Kubik   126644224      USD   \n",
      "7193                                  VR Roller-Coaster   120760320      USD   \n",
      "7194              Bret Michaels Emojis + Lyric Keyboard   111322112      USD   \n",
      "7195          VR Roller Coaster World - Virtual Reality    97235968      USD   \n",
      "7196                       Escape the Sweet Shop Series    90898432      USD   \n",
      "\n",
      "      price  rating_count_tot  rating_count_ver  user_rating  user_rating_ver  \\\n",
      "0      3.99             21292                26          4.0              4.5   \n",
      "1      0.00            161065                26          4.0              3.5   \n",
      "2      0.00            188583              2822          3.5              4.5   \n",
      "3      0.00            262241               649          4.0              4.5   \n",
      "4      0.00            985920              5320          4.5              5.0   \n",
      "5      0.99              8253              5516          4.0              4.0   \n",
      "6      0.00            119487               879          4.0              4.5   \n",
      "7      0.00           1126879              3594          4.0              4.5   \n",
      "8      9.99              1117                 4          4.5              5.0   \n",
      "9      3.99              7885                40          4.0              4.0   \n",
      "10     4.99             76720              4017          4.5              4.5   \n",
      "11     7.99            105776               166          3.5              2.5   \n",
      "12     0.00            479440               203          3.5              4.0   \n",
      "13     0.00            119773              2336          3.5              4.5   \n",
      "14     4.99              6340               668          4.5              4.5   \n",
      "15     0.00             56194                87          4.0              3.5   \n",
      "16     0.00           2974676               212          3.5              3.5   \n",
      "17     0.00            223885              3726          4.0              4.5   \n",
      "18     0.00            402925               136          4.0              4.5   \n",
      "19     2.99             31456              4178          4.0              3.5   \n",
      "20     1.99              2929               966          4.5              4.5   \n",
      "21     2.99             11447               781          5.0              5.0   \n",
      "22     0.00            137951               131          4.0              4.5   \n",
      "23     5.99                 8                 0          4.5              0.0   \n",
      "24     3.99              3241               297          4.0              4.0   \n",
      "25     0.00              5795                12          3.5              4.0   \n",
      "26     0.00             42316               248          3.0              3.5   \n",
      "27     0.00            123215                25          3.5              5.0   \n",
      "28     4.99               782                 7          4.0              3.5   \n",
      "29     9.99              3449                23          4.0              4.5   \n",
      "...     ...               ...               ...          ...              ...   \n",
      "7167   0.00                 1                 1          1.0              1.0   \n",
      "7168   0.00                 3                 3          4.0              4.0   \n",
      "7169   2.99                 9                 3          3.0              3.5   \n",
      "7170   0.00                39                 4          5.0              5.0   \n",
      "7171   0.00                10                10          5.0              5.0   \n",
      "7172   3.99                55                29          4.5              4.5   \n",
      "7173   0.99                 0                 0          0.0              0.0   \n",
      "7174   0.00                14                 4          4.0              3.5   \n",
      "7175   0.00                41                19          4.5              4.5   \n",
      "7176   0.00                 0                 0          0.0              0.0   \n",
      "7177   0.00                11                 8          4.0              4.0   \n",
      "7178   0.99                 0                 0          0.0              0.0   \n",
      "7179   0.00               279                 5          3.5              3.0   \n",
      "7180   0.00                26                 3          5.0              5.0   \n",
      "7181   0.99                 0                 0          0.0              0.0   \n",
      "7182   0.00                 0                 0          0.0              0.0   \n",
      "7183   3.99               292               292          4.0              4.0   \n",
      "7184   0.00                 0                 0          0.0              0.0   \n",
      "7185   0.99                 0                 0          0.0              0.0   \n",
      "7186   0.00                 1                 1          2.0              2.0   \n",
      "7187   0.00                23                23          4.5              4.5   \n",
      "7188   0.00                18                18          4.0              4.0   \n",
      "7189   0.99                 0                 0          0.0              0.0   \n",
      "7190   2.99                97                97          3.0              3.0   \n",
      "7191   2.99                11                 0          4.0              0.0   \n",
      "7192   0.00               142                75          4.5              4.5   \n",
      "7193   0.00                30                30          4.5              4.5   \n",
      "7194   1.99                15                 0          4.5              0.0   \n",
      "7195   0.00                85                32          4.5              4.5   \n",
      "7196   0.00                 3                 3          5.0              5.0   \n",
      "\n",
      "           ver cont_rating        prime_genre  sup_devices.num  \\\n",
      "0        6.3.5          4+              Games               38   \n",
      "1        8.2.2          4+       Productivity               37   \n",
      "2        5.0.0          4+            Weather               37   \n",
      "3       5.10.0         12+           Shopping               37   \n",
      "4        7.5.1          4+          Reference               37   \n",
      "5          1.8          4+              Games               47   \n",
      "6       6.12.0          4+            Finance               37   \n",
      "7        8.4.1         12+              Music               37   \n",
      "8        3.6.6          4+          Utilities               37   \n",
      "9        4.0.4          4+              Games               38   \n",
      "10      4.10.1          4+              Games               38   \n",
      "11      5.19.0          4+              Games               37   \n",
      "12          27         17+          Utilities               37   \n",
      "13       7.3.8          4+            Finance               37   \n",
      "14       4.0.3          4+              Games               38   \n",
      "15        21.1          4+             Travel               37   \n",
      "16          95          4+  Social Networking               37   \n",
      "17     11.15.0         12+             Travel               37   \n",
      "18      11.0.3         12+              Music               37   \n",
      "19       1.0.0          4+              Games               47   \n",
      "20         3.3          4+          Reference               43   \n",
      "21       5.2.6          4+              Games               40   \n",
      "22         6.9          4+             Sports               37   \n",
      "23       9.0.5          4+           Business               37   \n",
      "24       2.1.3          4+              Music               43   \n",
      "25       8.4.1          4+   Health & Fitness               37   \n",
      "26       2.0.6          9+              Games               38   \n",
      "27      10.5.4          4+       Productivity               37   \n",
      "28       1.9.8          4+              Music               43   \n",
      "29       3.4.1          4+            Weather               37   \n",
      "...        ...         ...                ...              ...   \n",
      "7167     1.0.1          4+              Games               38   \n",
      "7168     1.0.1          4+              Games               38   \n",
      "7169     1.0.1          4+      Entertainment               37   \n",
      "7170       1.3          9+  Social Networking               37   \n",
      "7171         1          4+              Games               40   \n",
      "7172       1.4          4+              Games               40   \n",
      "7173       1.1          4+          Utilities               37   \n",
      "7174     1.3.0          4+              Games               37   \n",
      "7175       1.3          4+              Games               37   \n",
      "7176     1.0.1          4+              Games               40   \n",
      "7177     1.1.0          4+              Games               37   \n",
      "7178       1.1          4+              Games               37   \n",
      "7179    0.6.41          4+  Social Networking               37   \n",
      "7180     1.0.5          9+          Utilities               37   \n",
      "7181         1          9+              Games               40   \n",
      "7182     1.0.3          4+      Photo & Video               37   \n",
      "7183  2.0.20.1          9+              Games               40   \n",
      "7184         1          9+              Games               40   \n",
      "7185         1          9+              Games               38   \n",
      "7186     1.0.1          4+              Games               38   \n",
      "7187         1          4+              Games               37   \n",
      "7188     1.0.0         12+              Games               38   \n",
      "7189     2.1.0          9+              Games               38   \n",
      "7190         1          4+              Games               37   \n",
      "7191     1.1.1         17+              Games               37   \n",
      "7192       1.3          4+              Games               38   \n",
      "7193       0.9          4+              Games               38   \n",
      "7194     1.0.2          9+          Utilities               37   \n",
      "7195    1.0.15         12+              Games               38   \n",
      "7196         1          4+              Games               40   \n",
      "\n",
      "      ipadSc_urls.num  lang.num  vpp_lic  \n",
      "0                   5        10        1  \n",
      "1                   5        23        1  \n",
      "2                   5         3        1  \n",
      "3                   5         9        1  \n",
      "4                   5        45        1  \n",
      "5                   5         1        1  \n",
      "6                   0        19        1  \n",
      "7                   4         1        1  \n",
      "8                   5         1        1  \n",
      "9                   0        10        1  \n",
      "10                  4        11        1  \n",
      "11                  0         6        1  \n",
      "12                  4        33        1  \n",
      "13                  0         2        1  \n",
      "14                  5         2        1  \n",
      "15                  1        26        1  \n",
      "16                  1        29        1  \n",
      "17                  5        18        1  \n",
      "18                  3        16        1  \n",
      "19                  0         1        1  \n",
      "20                  0         2        1  \n",
      "21                  5         1        1  \n",
      "22                  2         6        1  \n",
      "23                  5         3        1  \n",
      "24                  2        10        1  \n",
      "25                  5        11        1  \n",
      "26                  0         1        1  \n",
      "27                  5        23        1  \n",
      "28                  1         1        1  \n",
      "29                  5         1        1  \n",
      "...               ...       ...      ...  \n",
      "7167                4         1        1  \n",
      "7168                5         1        1  \n",
      "7169                0        31        1  \n",
      "7170                1         1        1  \n",
      "7171                0         1        1  \n",
      "7172                5         1        1  \n",
      "7173                0         1        1  \n",
      "7174                5         1        1  \n",
      "7175                5        25        1  \n",
      "7176                4         1        1  \n",
      "7177                5         1        1  \n",
      "7178                5         1        1  \n",
      "7179                4         1        1  \n",
      "7180                4         1        1  \n",
      "7181                5         0        1  \n",
      "7182                0         1        1  \n",
      "7183                5         1        1  \n",
      "7184                5         0        1  \n",
      "7185                5         1        1  \n",
      "7186                5         1        1  \n",
      "7187                5         2        1  \n",
      "7188                4         1        1  \n",
      "7189                5         1        1  \n",
      "7190                5         3        1  \n",
      "7191                0         1        1  \n",
      "7192                5         1        1  \n",
      "7193                0         1        1  \n",
      "7194                1         1        1  \n",
      "7195                0         2        1  \n",
      "7196                0         2        1  \n",
      "\n",
      "[7197 rows x 17 columns]\n"
     ]
    }
   ],
   "source": [
    "import pandas as pd\n",
    "filePath = 'AppleStore1.csv'\n",
    "def readCsvData(filePath):\n",
    "    return pd.read_csv(filePath)\n",
    "df = readCsvData(filePath)\n",
    "print(df)\n"
   ]
  },
  {
   "cell_type": "code",
   "execution_count": 3,
   "metadata": {},
   "outputs": [
    {
     "data": {
      "text/plain": [
       "'C:\\\\Users\\\\cse319\\\\Python'"
      ]
     },
     "execution_count": 3,
     "metadata": {},
     "output_type": "execute_result"
    }
   ],
   "source": [
    "pwd"
   ]
  },
  {
   "cell_type": "code",
   "execution_count": 4,
   "metadata": {},
   "outputs": [
    {
     "name": "stdout",
     "output_type": "stream",
     "text": [
      "     Match_SK  match_id                        Team1  \\\n",
      "0           0    335987  Royal Challengers Bangalore   \n",
      "1           1    335988              Kings XI Punjab   \n",
      "2           2    335989             Delhi Daredevils   \n",
      "3           3    335990               Mumbai Indians   \n",
      "4           4    335991        Kolkata Knight Riders   \n",
      "5           5    335992             Rajasthan Royals   \n",
      "6           6    335993              Deccan Chargers   \n",
      "7           7    335994          Chennai Super Kings   \n",
      "8           8    335995              Deccan Chargers   \n",
      "9           9    335996              Kings XI Punjab   \n",
      "10         10    335997  Royal Challengers Bangalore   \n",
      "11         11    335998          Chennai Super Kings   \n",
      "12         12    335999               Mumbai Indians   \n",
      "13         13    336000              Kings XI Punjab   \n",
      "14         14    336001  Royal Challengers Bangalore   \n",
      "15         15    336002        Kolkata Knight Riders   \n",
      "16         16    336003             Delhi Daredevils   \n",
      "17         17    336004              Deccan Chargers   \n",
      "18         18    336005             Rajasthan Royals   \n",
      "19         19    336006          Chennai Super Kings   \n",
      "20         20    336007              Deccan Chargers   \n",
      "21         21    336008              Kings XI Punjab   \n",
      "22         22    336009               Mumbai Indians   \n",
      "23         23    336010             Rajasthan Royals   \n",
      "24         24    336011  Royal Challengers Bangalore   \n",
      "25         25    336012          Chennai Super Kings   \n",
      "26         26    336013               Mumbai Indians   \n",
      "27         27    336014             Delhi Daredevils   \n",
      "28         28    336015        Kolkata Knight Riders   \n",
      "29         29    336016             Rajasthan Royals   \n",
      "..        ...       ...                          ...   \n",
      "607       607   1082621  Royal Challengers Bangalore   \n",
      "608       608   1082622        Kolkata Knight Riders   \n",
      "609       609   1082623              Kings XI Punjab   \n",
      "610       610   1082624      Rising Pune Supergiants   \n",
      "611       611   1082625                Gujarat Lions   \n",
      "612       612   1082626              Kings XI Punjab   \n",
      "613       613   1082627          Sunrisers Hyderabad   \n",
      "614       614   1082628               Mumbai Indians   \n",
      "615       615   1082629      Rising Pune Supergiants   \n",
      "616       616   1082630             Delhi Daredevils   \n",
      "617       617   1082631        Kolkata Knight Riders   \n",
      "618       618   1082632             Delhi Daredevils   \n",
      "619       619   1082633  Royal Challengers Bangalore   \n",
      "620       620   1082634          Sunrisers Hyderabad   \n",
      "621       621   1082635             Delhi Daredevils   \n",
      "622       622   1082636  Royal Challengers Bangalore   \n",
      "623       623   1082637              Kings XI Punjab   \n",
      "624       624   1082638          Sunrisers Hyderabad   \n",
      "625       625   1082639              Kings XI Punjab   \n",
      "626       626   1082640                Gujarat Lions   \n",
      "627       627   1082641               Mumbai Indians   \n",
      "628       628   1082642             Delhi Daredevils   \n",
      "629       629   1082643                Gujarat Lions   \n",
      "630       630   1082644        Kolkata Knight Riders   \n",
      "631       631   1082645      Rising Pune Supergiants   \n",
      "632       632   1082646             Delhi Daredevils   \n",
      "633       633   1082647               Mumbai Indians   \n",
      "634       634   1082648          Sunrisers Hyderabad   \n",
      "635       635   1082649               Mumbai Indians   \n",
      "636       636   1082650               Mumbai Indians   \n",
      "\n",
      "                           Team2 match_date  Season_Year  \\\n",
      "0          Kolkata Knight Riders  4/18/2008         2008   \n",
      "1            Chennai Super Kings  4/19/2008         2008   \n",
      "2               Rajasthan Royals  4/19/2008         2008   \n",
      "3    Royal Challengers Bangalore  4/20/2008         2008   \n",
      "4                Deccan Chargers  4/20/2008         2008   \n",
      "5                Kings XI Punjab  4/21/2008         2008   \n",
      "6               Delhi Daredevils  4/22/2008         2008   \n",
      "7                 Mumbai Indians  4/23/2008         2008   \n",
      "8               Rajasthan Royals  4/24/2008         2008   \n",
      "9                 Mumbai Indians  4/25/2008         2008   \n",
      "10              Rajasthan Royals  4/26/2008         2008   \n",
      "11         Kolkata Knight Riders  4/26/2008         2008   \n",
      "12               Deccan Chargers  4/27/2008         2008   \n",
      "13              Delhi Daredevils  4/27/2008         2008   \n",
      "14           Chennai Super Kings  4/28/2008         2008   \n",
      "15                Mumbai Indians  4/29/2008         2008   \n",
      "16   Royal Challengers Bangalore  4/30/2008         2008   \n",
      "17               Kings XI Punjab   5/1/2008         2008   \n",
      "18         Kolkata Knight Riders   5/1/2008         2008   \n",
      "19              Delhi Daredevils   5/2/2008         2008   \n",
      "20   Royal Challengers Bangalore  5/25/2008         2008   \n",
      "21         Kolkata Knight Riders   5/3/2008         2008   \n",
      "22              Delhi Daredevils   5/4/2008         2008   \n",
      "23           Chennai Super Kings   5/4/2008         2008   \n",
      "24               Kings XI Punjab   5/5/2008         2008   \n",
      "25               Deccan Chargers   5/6/2008         2008   \n",
      "26              Rajasthan Royals   5/7/2008         2008   \n",
      "27           Chennai Super Kings   5/8/2008         2008   \n",
      "28   Royal Challengers Bangalore   5/8/2008         2008   \n",
      "29               Deccan Chargers   5/9/2008         2008   \n",
      "..                           ...        ...          ...   \n",
      "607                Gujarat Lions  4/27/2017         2017   \n",
      "608             Delhi Daredevils  4/28/2017         2017   \n",
      "609          Sunrisers Hyderabad  4/28/2017         2017   \n",
      "610  Royal Challengers Bangalore  4/29/2017         2017   \n",
      "611               Mumbai Indians  4/29/2017         2017   \n",
      "612             Delhi Daredevils  4/30/2017         2017   \n",
      "613        Kolkata Knight Riders  4/30/2017         2017   \n",
      "614  Royal Challengers Bangalore   5/1/2017         2017   \n",
      "615                Gujarat Lions   5/1/2017         2017   \n",
      "616          Sunrisers Hyderabad   5/2/2017         2017   \n",
      "617      Rising Pune Supergiants   5/3/2017         2017   \n",
      "618                Gujarat Lions   5/4/2017         2017   \n",
      "619              Kings XI Punjab   5/5/2017         2017   \n",
      "620      Rising Pune Supergiants   5/6/2017         2017   \n",
      "621               Mumbai Indians   5/6/2017         2017   \n",
      "622        Kolkata Knight Riders   5/7/2017         2017   \n",
      "623                Gujarat Lions   5/7/2017         2017   \n",
      "624               Mumbai Indians   5/8/2017         2017   \n",
      "625        Kolkata Knight Riders   5/9/2017         2017   \n",
      "626             Delhi Daredevils  5/10/2017         2017   \n",
      "627              Kings XI Punjab  5/11/2017         2017   \n",
      "628      Rising Pune Supergiants  5/12/2017         2017   \n",
      "629          Sunrisers Hyderabad  5/13/2017         2017   \n",
      "630               Mumbai Indians  5/13/2017         2017   \n",
      "631              Kings XI Punjab  5/14/2017         2017   \n",
      "632  Royal Challengers Bangalore  5/14/2017         2017   \n",
      "633      Rising Pune Supergiants  5/16/2017         2017   \n",
      "634        Kolkata Knight Riders  5/17/2017         2017   \n",
      "635        Kolkata Knight Riders  5/19/2017         2017   \n",
      "636      Rising Pune Supergiants  5/21/2017         2017   \n",
      "\n",
      "                                            Venue_Name           City_Name  \\\n",
      "0                                M Chinnaswamy Stadium           Bangalore   \n",
      "1           Punjab Cricket Association Stadium, Mohali          Chandigarh   \n",
      "2                                     Feroz Shah Kotla               Delhi   \n",
      "3                                     Wankhede Stadium              Mumbai   \n",
      "4                                         Eden Gardens             Kolkata   \n",
      "5                               Sawai Mansingh Stadium              Jaipur   \n",
      "6            Rajiv Gandhi International Stadium, Uppal           Hyderabad   \n",
      "7                      MA Chidambaram Stadium, Chepauk             Chennai   \n",
      "8            Rajiv Gandhi International Stadium, Uppal           Hyderabad   \n",
      "9           Punjab Cricket Association Stadium, Mohali          Chandigarh   \n",
      "10                               M Chinnaswamy Stadium           Bangalore   \n",
      "11                     MA Chidambaram Stadium, Chepauk             Chennai   \n",
      "12                          Dr DY Patil Sports Academy              Mumbai   \n",
      "13          Punjab Cricket Association Stadium, Mohali          Chandigarh   \n",
      "14                               M Chinnaswamy Stadium           Bangalore   \n",
      "15                                        Eden Gardens             Kolkata   \n",
      "16                                    Feroz Shah Kotla               Delhi   \n",
      "17           Rajiv Gandhi International Stadium, Uppal           Hyderabad   \n",
      "18                              Sawai Mansingh Stadium              Jaipur   \n",
      "19                     MA Chidambaram Stadium, Chepauk             Chennai   \n",
      "20           Rajiv Gandhi International Stadium, Uppal           Hyderabad   \n",
      "21          Punjab Cricket Association Stadium, Mohali          Chandigarh   \n",
      "22                          Dr DY Patil Sports Academy              Mumbai   \n",
      "23                              Sawai Mansingh Stadium              Jaipur   \n",
      "24                               M Chinnaswamy Stadium           Bangalore   \n",
      "25                     MA Chidambaram Stadium, Chepauk             Chennai   \n",
      "26                          Dr DY Patil Sports Academy              Mumbai   \n",
      "27                                    Feroz Shah Kotla               Delhi   \n",
      "28                                        Eden Gardens             Kolkata   \n",
      "29                              Sawai Mansingh Stadium              Jaipur   \n",
      "..                                                 ...                 ...   \n",
      "607                              M Chinnaswamy Stadium           Bengaluru   \n",
      "608                                       Eden Gardens             Kolkata   \n",
      "609  Punjab Cricket Association IS Bindra Stadium M...              Mohali   \n",
      "610            Maharashtra Cricket Association Stadium                Pune   \n",
      "611             Saurashtra Cricket Association Stadium              Rajkot   \n",
      "612  Punjab Cricket Association IS Bindra Stadium M...              Mohali   \n",
      "613           Rajiv Gandhi International Stadium Uppal  Hyderabad (Deccan)   \n",
      "614                                   Wankhede Stadium              Mumbai   \n",
      "615            Maharashtra Cricket Association Stadium                Pune   \n",
      "616                                   Feroz Shah Kotla               Delhi   \n",
      "617                                       Eden Gardens             Kolkata   \n",
      "618                                   Feroz Shah Kotla               Delhi   \n",
      "619                              M Chinnaswamy Stadium           Bengaluru   \n",
      "620           Rajiv Gandhi International Stadium Uppal  Hyderabad (Deccan)   \n",
      "621                                   Feroz Shah Kotla               Delhi   \n",
      "622                              M Chinnaswamy Stadium           Bengaluru   \n",
      "623  Punjab Cricket Association IS Bindra Stadium M...              Mohali   \n",
      "624           Rajiv Gandhi International Stadium Uppal  Hyderabad (Deccan)   \n",
      "625  Punjab Cricket Association IS Bindra Stadium M...              Mohali   \n",
      "626                                         Green Park              Kanpur   \n",
      "627                                   Wankhede Stadium              Mumbai   \n",
      "628                                   Feroz Shah Kotla               Delhi   \n",
      "629                                         Green Park              Kanpur   \n",
      "630                                       Eden Gardens             Kolkata   \n",
      "631            Maharashtra Cricket Association Stadium                Pune   \n",
      "632                                   Feroz Shah Kotla               Delhi   \n",
      "633                                   Wankhede Stadium              Mumbai   \n",
      "634                              M Chinnaswamy Stadium           Bengaluru   \n",
      "635                              M Chinnaswamy Stadium           Bengaluru   \n",
      "636           Rajiv Gandhi International Stadium Uppal  Hyderabad (Deccan)   \n",
      "\n",
      "    Country_Name                  Toss_Winner                 match_winner  \\\n",
      "0          India  Royal Challengers Bangalore        Kolkata Knight Riders   \n",
      "1          India          Chennai Super Kings          Chennai Super Kings   \n",
      "2          India             Rajasthan Royals             Delhi Daredevils   \n",
      "3          India               Mumbai Indians  Royal Challengers Bangalore   \n",
      "4          India              Deccan Chargers        Kolkata Knight Riders   \n",
      "5          India              Kings XI Punjab             Rajasthan Royals   \n",
      "6          India              Deccan Chargers             Delhi Daredevils   \n",
      "7          India               Mumbai Indians          Chennai Super Kings   \n",
      "8          India             Rajasthan Royals             Rajasthan Royals   \n",
      "9          India               Mumbai Indians              Kings XI Punjab   \n",
      "10         India             Rajasthan Royals             Rajasthan Royals   \n",
      "11         India        Kolkata Knight Riders          Chennai Super Kings   \n",
      "12         India              Deccan Chargers              Deccan Chargers   \n",
      "13         India             Delhi Daredevils              Kings XI Punjab   \n",
      "14         India          Chennai Super Kings          Chennai Super Kings   \n",
      "15         India        Kolkata Knight Riders               Mumbai Indians   \n",
      "16         India  Royal Challengers Bangalore             Delhi Daredevils   \n",
      "17         India              Kings XI Punjab              Kings XI Punjab   \n",
      "18         India             Rajasthan Royals             Rajasthan Royals   \n",
      "19         India          Chennai Super Kings             Delhi Daredevils   \n",
      "20         India              Deccan Chargers  Royal Challengers Bangalore   \n",
      "21         India              Kings XI Punjab              Kings XI Punjab   \n",
      "22         India             Delhi Daredevils               Mumbai Indians   \n",
      "23         India          Chennai Super Kings             Rajasthan Royals   \n",
      "24         India              Kings XI Punjab              Kings XI Punjab   \n",
      "25         India              Deccan Chargers              Deccan Chargers   \n",
      "26         India               Mumbai Indians               Mumbai Indians   \n",
      "27         India          Chennai Super Kings          Chennai Super Kings   \n",
      "28         India        Kolkata Knight Riders        Kolkata Knight Riders   \n",
      "29         India             Rajasthan Royals             Rajasthan Royals   \n",
      "..           ...                          ...                          ...   \n",
      "607        India                Gujarat Lions                Gujarat Lions   \n",
      "608        India        Kolkata Knight Riders        Kolkata Knight Riders   \n",
      "609        India              Kings XI Punjab          Sunrisers Hyderabad   \n",
      "610        India  Royal Challengers Bangalore      Rising Pune Supergiants   \n",
      "611        India                Gujarat Lions                         tied   \n",
      "612        India              Kings XI Punjab              Kings XI Punjab   \n",
      "613        India        Kolkata Knight Riders          Sunrisers Hyderabad   \n",
      "614        India  Royal Challengers Bangalore               Mumbai Indians   \n",
      "615        India      Rising Pune Supergiants      Rising Pune Supergiants   \n",
      "616        India             Delhi Daredevils             Delhi Daredevils   \n",
      "617        India      Rising Pune Supergiants      Rising Pune Supergiants   \n",
      "618        India             Delhi Daredevils             Delhi Daredevils   \n",
      "619        India  Royal Challengers Bangalore              Kings XI Punjab   \n",
      "620        India          Sunrisers Hyderabad      Rising Pune Supergiants   \n",
      "621        India             Delhi Daredevils               Mumbai Indians   \n",
      "622        India        Kolkata Knight Riders        Kolkata Knight Riders   \n",
      "623        India                Gujarat Lions                Gujarat Lions   \n",
      "624        India               Mumbai Indians          Sunrisers Hyderabad   \n",
      "625        India        Kolkata Knight Riders              Kings XI Punjab   \n",
      "626        India             Delhi Daredevils             Delhi Daredevils   \n",
      "627        India               Mumbai Indians              Kings XI Punjab   \n",
      "628        India             Delhi Daredevils             Delhi Daredevils   \n",
      "629        India          Sunrisers Hyderabad          Sunrisers Hyderabad   \n",
      "630        India        Kolkata Knight Riders               Mumbai Indians   \n",
      "631        India      Rising Pune Supergiants      Rising Pune Supergiants   \n",
      "632        India  Royal Challengers Bangalore  Royal Challengers Bangalore   \n",
      "633        India               Mumbai Indians      Rising Pune Supergiants   \n",
      "634        India        Kolkata Knight Riders        Kolkata Knight Riders   \n",
      "635        India               Mumbai Indians               Mumbai Indians   \n",
      "636        India               Mumbai Indians               Mumbai Indians   \n",
      "\n",
      "    Toss_Name Win_Type Outcome_Type         ManOfMach  Win_Margin  Country_id  \n",
      "0       field     runs       Result       BB McCullum       140.0           1  \n",
      "1         bat     runs       Result        MEK Hussey        33.0           1  \n",
      "2         bat  wickets       Result       MF Maharoof         9.0           1  \n",
      "3         bat  wickets       Result        MV Boucher         5.0           1  \n",
      "4         bat  wickets       Result         DJ Hussey         5.0           1  \n",
      "5         bat  wickets       Result         SR Watson         6.0           1  \n",
      "6         bat  wickets       Result          V Sehwag         9.0           1  \n",
      "7       field     runs       Result         ML Hayden         6.0           1  \n",
      "8       field  wickets       Result         YK Pathan         3.0           1  \n",
      "9       field     runs       Result     KC Sangakkara        66.0           1  \n",
      "10      field  wickets       Result         SR Watson         7.0           1  \n",
      "11        bat  wickets       Result          JDP Oram         9.0           1  \n",
      "12      field  wickets       Result      AC Gilchrist        10.0           1  \n",
      "13        bat  wickets       Result         SM Katich         4.0           1  \n",
      "14        bat     runs       Result          MS Dhoni        13.0           1  \n",
      "15        bat  wickets       Result     ST Jayasuriya         7.0           1  \n",
      "16      field     runs       Result        GD McGrath        10.0           1  \n",
      "17      field  wickets       Result          SE Marsh         7.0           1  \n",
      "18        bat     runs       Result       SA Asnodkar        45.0           1  \n",
      "19        bat  wickets       Result          V Sehwag         8.0           1  \n",
      "20        bat  wickets       Result     R Vinay Kumar         5.0           1  \n",
      "21        bat     runs       Result         IK Pathan         9.0           1  \n",
      "22      field     runs       Result        SM Pollock        29.0           1  \n",
      "23        bat  wickets       Result     Sohail Tanvir         8.0           1  \n",
      "24      field  wickets       Result       S Sreesanth         6.0           1  \n",
      "25      field  wickets       Result      AC Gilchrist         7.0           1  \n",
      "26      field  wickets       Result           A Nehra         7.0           1  \n",
      "27      field  wickets       Result          MS Dhoni         4.0           1  \n",
      "28        bat     runs       Result        SC Ganguly         5.0           1  \n",
      "29      field  wickets       Result         YK Pathan         8.0           1  \n",
      "..        ...      ...          ...               ...         ...         ...  \n",
      "607     Field  wickets       Result            AJ Tye         7.0           1  \n",
      "608     Field  wickets       Result         G Gambhir         7.0           1  \n",
      "609     Field     runs       Result       Rashid Khan        26.0           1  \n",
      "610     Field     runs       Result       LH Ferguson        61.0           1  \n",
      "611       Bat      NaN         tied         KH Pandya         0.0           1  \n",
      "612     Field  wickets       Result    Sandeep Sharma        10.0           1  \n",
      "613     Field     runs       Result         DA Warner        48.0           1  \n",
      "614       Bat  wickets       Result         RG Sharma         5.0           1  \n",
      "615     Field  wickets       Result         BA Stokes         5.0           1  \n",
      "616     Field  wickets       Result    Mohammed Shami         6.0           1  \n",
      "617     Field  wickets       Result       RA Tripathi         4.0           1  \n",
      "618     Field  wickets       Result           RR Pant         7.0           1  \n",
      "619     Field     runs       Result    Sandeep Sharma        19.0           1  \n",
      "620     Field     runs       Result        JD Unadkat        12.0           1  \n",
      "621     Field     runs       Result       LMP Simmons       146.0           1  \n",
      "622     Field  wickets       Result         SP Narine         6.0           1  \n",
      "623     Field  wickets       Result          DR Smith         6.0           1  \n",
      "624       Bat  wickets       Result          S Dhawan         7.0           1  \n",
      "625     Field     runs       Result         MM Sharma        14.0           1  \n",
      "626     Field  wickets       Result           SS Iyer         2.0           1  \n",
      "627     Field     runs       Result           WP Saha         7.0           1  \n",
      "628       Bat     runs       Result           KK Nair         7.0           1  \n",
      "629     Field  wickets       Result    Mohammed Siraj         8.0           1  \n",
      "630     Field     runs       Result         AT Rayudu         9.0           1  \n",
      "631     Field  wickets       Result        JD Unadkat         9.0           1  \n",
      "632       Bat     runs       Result          HV Patel        10.0           1  \n",
      "633     Field     runs       Result  Wasington Sundar        20.0           1  \n",
      "634     Field  wickets       Result   NM Coulter-Nile         7.0           1  \n",
      "635     Field  wickets       Result         KV Sharma         6.0           1  \n",
      "636       Bat      run       Result         KH Pandya         1.0           1  \n",
      "\n",
      "[637 rows x 17 columns]\n"
     ]
    }
   ],
   "source": [
    "import pandas as pd\n",
    "filePath = 'Match.csv'\n",
    "def readCsvData(filePath):\n",
    "    return pd.read_csv(filePath)\n",
    "df = readCsvData(filePath)\n",
    "print(df)"
   ]
  },
  {
   "cell_type": "code",
   "execution_count": 5,
   "metadata": {},
   "outputs": [
    {
     "data": {
      "text/plain": [
       "2013    76\n",
       "2012    74\n",
       "2011    73\n",
       "2017    60\n",
       "2016    60\n",
       "2014    60\n",
       "2010    60\n",
       "2015    59\n",
       "2008    58\n",
       "2009    57\n",
       "Name: Season_Year, dtype: int64"
      ]
     },
     "execution_count": 5,
     "metadata": {},
     "output_type": "execute_result"
    }
   ],
   "source": [
    "# Display the count of matches based on the year wise\n",
    "df[\"Season_Year\"].value_counts()"
   ]
  },
  {
   "cell_type": "code",
   "execution_count": 6,
   "metadata": {},
   "outputs": [
    {
     "data": {
      "image/png": "[encoded data removed]",
      "text/plain": [
       "<Figure size 432x288 with 1 Axes>"
      ]
     },
     "metadata": {
      "needs_background": "light"
     },
     "output_type": "display_data"
    }
   ],
   "source": [
    "# Plot a bar graph  no. of matches won by each team in the year  2011\n",
    "import matplotlib.pyplot as plt\n",
    "import seaborn as sns \n",
    "rows_2011 = df[df.Season_Year == 2011]\n",
    "sns.countplot(y=rows_2011['match_winner'])\n",
    "plt.xlabel('winning frequency')\n",
    "plt.title('matches won')\n",
    "plt.show()\n",
    "                          \n",
    "\n"
   ]
  },
  {
   "cell_type": "code",
   "execution_count": 7,
   "metadata": {},
   "outputs": [
    {
     "name": "stdout",
     "output_type": "stream",
     "text": [
      "col_0              count\n",
      "ManOfMach               \n",
      "A Mishra               2\n",
      "AB Dinda               1\n",
      "AT Rayudu              1\n",
      "B Kumar                1\n",
      "CH Morris              1\n",
      "DA Warner              6\n",
      "DJ Bravo               1\n",
      "DJG Sammy              1\n",
      "DW Steyn               3\n",
      "G Gambhir              1\n",
      "GH Vihari              2\n",
      "I Sharma               1\n",
      "MJ McClenaghan         1\n",
      "MR Marsh               1\n",
      "Mandeep Singh          1\n",
      "Mustafizur Rahman      1\n",
      "PA Patel               1\n",
      "PC Valthaty            1\n",
      "R Vinay Kumar          1\n",
      "SC Ganguly             1\n",
      "SE Marsh               1\n",
      "SK Raina               2\n",
      "SK Trivedi             1\n",
      "SL Malinga             1\n",
      "UT Yadav               1\n",
      "V Kohli                1\n",
      "V Sehwag               2\n",
      "WP Saha                1\n",
      "YK Pathan              2\n"
     ]
    }
   ],
   "source": [
    "# Print ManOfMatch count of each player in  Hyderabad stadium\n",
    "x=df[df.City_Name == 'Hyderabad']\n",
    "y=pd.crosstab(index=x['ManOfMach'],columns = 'count',margins= False)\n",
    "print(y)"
   ]
  },
  {
   "cell_type": "code",
   "execution_count": 11,
   "metadata": {},
   "outputs": [
    {
     "ename": "KeyError",
     "evalue": "\"None of [Index(['prime_genre', 'user_rating'], dtype='object')] are in the [columns]\"",
     "output_type": "error",
     "traceback": [
      "\u001b[1;31m---------------------------------------------------------------------------\u001b[0m",
      "\u001b[1;31mKeyError\u001b[0m                                  Traceback (most recent call last)",
      "\u001b[1;32m<ipython-input-11-71312c18d028>\u001b[0m in \u001b[0;36m<module>\u001b[1;34m\u001b[0m\n\u001b[0;32m      1\u001b[0m \u001b[1;31m# Calculate the average rating of Gaming and Non-Gaming apps\u001b[0m\u001b[1;33m\u001b[0m\u001b[1;33m\u001b[0m\u001b[1;33m\u001b[0m\u001b[0m\n\u001b[1;32m----> 2\u001b[1;33m \u001b[0mt\u001b[0m\u001b[1;33m=\u001b[0m \u001b[0mdf\u001b[0m\u001b[1;33m[\u001b[0m\u001b[1;33m[\u001b[0m\u001b[1;34m'prime_genre'\u001b[0m\u001b[1;33m,\u001b[0m\u001b[1;34m'user_rating'\u001b[0m\u001b[1;33m]\u001b[0m\u001b[1;33m]\u001b[0m\u001b[1;33m\u001b[0m\u001b[1;33m\u001b[0m\u001b[0m\n\u001b[0m\u001b[0;32m      3\u001b[0m \u001b[0mg\u001b[0m\u001b[1;33m=\u001b[0m \u001b[0mt\u001b[0m\u001b[1;33m[\u001b[0m\u001b[0mt\u001b[0m\u001b[1;33m.\u001b[0m\u001b[0mprime_genre\u001b[0m \u001b[1;33m==\u001b[0m \u001b[1;34m'Games'\u001b[0m\u001b[1;33m]\u001b[0m\u001b[1;33m\u001b[0m\u001b[1;33m\u001b[0m\u001b[0m\n\u001b[0;32m      4\u001b[0m \u001b[0mng\u001b[0m\u001b[1;33m=\u001b[0m\u001b[0mt\u001b[0m\u001b[1;33m[\u001b[0m\u001b[0mt\u001b[0m\u001b[1;33m.\u001b[0m\u001b[0mprime_genre\u001b[0m \u001b[1;33m!=\u001b[0m\u001b[1;34m'Games'\u001b[0m\u001b[1;33m]\u001b[0m\u001b[1;33m\u001b[0m\u001b[1;33m\u001b[0m\u001b[0m\n\u001b[0;32m      5\u001b[0m \u001b[0mprint\u001b[0m\u001b[1;33m(\u001b[0m\u001b[1;34m\"Mean {0}\"\u001b[0m\u001b[1;33m.\u001b[0m\u001b[0mformat\u001b[0m\u001b[1;33m(\u001b[0m\u001b[0mg\u001b[0m\u001b[1;33m.\u001b[0m\u001b[0mmean\u001b[0m\u001b[1;33m(\u001b[0m\u001b[1;33m)\u001b[0m\u001b[1;33m)\u001b[0m\u001b[1;33m)\u001b[0m\u001b[1;33m\u001b[0m\u001b[1;33m\u001b[0m\u001b[0m\n",
      "\u001b[1;32mC:\\ProgramData\\Anaconda3\\lib\\site-packages\\pandas\\core\\frame.py\u001b[0m in \u001b[0;36m__getitem__\u001b[1;34m(self, key)\u001b[0m\n\u001b[0;32m   2932\u001b[0m                 \u001b[0mkey\u001b[0m \u001b[1;33m=\u001b[0m \u001b[0mlist\u001b[0m\u001b[1;33m(\u001b[0m\u001b[0mkey\u001b[0m\u001b[1;33m)\u001b[0m\u001b[1;33m\u001b[0m\u001b[1;33m\u001b[0m\u001b[0m\n\u001b[0;32m   2933\u001b[0m             indexer = self.loc._convert_to_indexer(key, axis=1,\n\u001b[1;32m-> 2934\u001b[1;33m                                                    raise_missing=True)\n\u001b[0m\u001b[0;32m   2935\u001b[0m \u001b[1;33m\u001b[0m\u001b[0m\n\u001b[0;32m   2936\u001b[0m         \u001b[1;31m# take() does not accept boolean indexers\u001b[0m\u001b[1;33m\u001b[0m\u001b[1;33m\u001b[0m\u001b[1;33m\u001b[0m\u001b[0m\n",
      "\u001b[1;32mC:\\ProgramData\\Anaconda3\\lib\\site-packages\\pandas\\core\\indexing.py\u001b[0m in \u001b[0;36m_convert_to_indexer\u001b[1;34m(self, obj, axis, is_setter, raise_missing)\u001b[0m\n\u001b[0;32m   1352\u001b[0m                 kwargs = {'raise_missing': True if is_setter else\n\u001b[0;32m   1353\u001b[0m                           raise_missing}\n\u001b[1;32m-> 1354\u001b[1;33m                 \u001b[1;32mreturn\u001b[0m \u001b[0mself\u001b[0m\u001b[1;33m.\u001b[0m\u001b[0m_get_listlike_indexer\u001b[0m\u001b[1;33m(\u001b[0m\u001b[0mobj\u001b[0m\u001b[1;33m,\u001b[0m \u001b[0maxis\u001b[0m\u001b[1;33m,\u001b[0m \u001b[1;33m**\u001b[0m\u001b[0mkwargs\u001b[0m\u001b[1;33m)\u001b[0m\u001b[1;33m[\u001b[0m\u001b[1;36m1\u001b[0m\u001b[1;33m]\u001b[0m\u001b[1;33m\u001b[0m\u001b[1;33m\u001b[0m\u001b[0m\n\u001b[0m\u001b[0;32m   1355\u001b[0m         \u001b[1;32melse\u001b[0m\u001b[1;33m:\u001b[0m\u001b[1;33m\u001b[0m\u001b[1;33m\u001b[0m\u001b[0m\n\u001b[0;32m   1356\u001b[0m             \u001b[1;32mtry\u001b[0m\u001b[1;33m:\u001b[0m\u001b[1;33m\u001b[0m\u001b[1;33m\u001b[0m\u001b[0m\n",
      "\u001b[1;32mC:\\ProgramData\\Anaconda3\\lib\\site-packages\\pandas\\core\\indexing.py\u001b[0m in \u001b[0;36m_get_listlike_indexer\u001b[1;34m(self, key, axis, raise_missing)\u001b[0m\n\u001b[0;32m   1159\u001b[0m         self._validate_read_indexer(keyarr, indexer,\n\u001b[0;32m   1160\u001b[0m                                     \u001b[0mo\u001b[0m\u001b[1;33m.\u001b[0m\u001b[0m_get_axis_number\u001b[0m\u001b[1;33m(\u001b[0m\u001b[0maxis\u001b[0m\u001b[1;33m)\u001b[0m\u001b[1;33m,\u001b[0m\u001b[1;33m\u001b[0m\u001b[1;33m\u001b[0m\u001b[0m\n\u001b[1;32m-> 1161\u001b[1;33m                                     raise_missing=raise_missing)\n\u001b[0m\u001b[0;32m   1162\u001b[0m         \u001b[1;32mreturn\u001b[0m \u001b[0mkeyarr\u001b[0m\u001b[1;33m,\u001b[0m \u001b[0mindexer\u001b[0m\u001b[1;33m\u001b[0m\u001b[1;33m\u001b[0m\u001b[0m\n\u001b[0;32m   1163\u001b[0m \u001b[1;33m\u001b[0m\u001b[0m\n",
      "\u001b[1;32mC:\\ProgramData\\Anaconda3\\lib\\site-packages\\pandas\\core\\indexing.py\u001b[0m in \u001b[0;36m_validate_read_indexer\u001b[1;34m(self, key, indexer, axis, raise_missing)\u001b[0m\n\u001b[0;32m   1244\u001b[0m                 raise KeyError(\n\u001b[0;32m   1245\u001b[0m                     u\"None of [{key}] are in the [{axis}]\".format(\n\u001b[1;32m-> 1246\u001b[1;33m                         key=key, axis=self.obj._get_axis_name(axis)))\n\u001b[0m\u001b[0;32m   1247\u001b[0m \u001b[1;33m\u001b[0m\u001b[0m\n\u001b[0;32m   1248\u001b[0m             \u001b[1;31m# We (temporarily) allow for some missing keys with .loc, except in\u001b[0m\u001b[1;33m\u001b[0m\u001b[1;33m\u001b[0m\u001b[1;33m\u001b[0m\u001b[0m\n",
      "\u001b[1;31mKeyError\u001b[0m: \"None of [Index(['prime_genre', 'user_rating'], dtype='object')] are in the [columns]\""
     ]
    }
   ],
   "source": [
    "# Calculate the average rating of Gaming and Non-Gaming apps \n",
    "t= df[['prime_genre','user_rating']]\n",
    "g= t[t.prime_genre == 'Games']\n",
    "ng=t[t.prime_genre !='Games']\n",
    "print(\"Mean {0}\".format(g.mean()))\n",
    "print(\"Mean non games {0}\".format(ng.mean()))"
   ]
  },
  {
   "cell_type": "code",
   "execution_count": 9,
   "metadata": {},
   "outputs": [
    {
     "ename": "AttributeError",
     "evalue": "'DataFrame' object has no attribute 'price'",
     "output_type": "error",
     "traceback": [
      "\u001b[1;31m---------------------------------------------------------------------------\u001b[0m",
      "\u001b[1;31mAttributeError\u001b[0m                            Traceback (most recent call last)",
      "\u001b[1;32m<ipython-input-9-adeaf9465612>\u001b[0m in \u001b[0;36m<module>\u001b[1;34m\u001b[0m\n\u001b[0;32m      1\u001b[0m \u001b[1;31m# Draw Pie plot based on labels as  below Price category and values as count of each category apps\u001b[0m\u001b[1;33m\u001b[0m\u001b[1;33m\u001b[0m\u001b[1;33m\u001b[0m\u001b[0m\n\u001b[0;32m      2\u001b[0m \u001b[0mmovies\u001b[0m\u001b[1;33m=\u001b[0m\u001b[1;33m[\u001b[0m\u001b[1;34m'Free apps'\u001b[0m\u001b[1;33m,\u001b[0m\u001b[1;34m'Affordable Apps'\u001b[0m\u001b[1;33m,\u001b[0m\u001b[1;34m'Expensive apps'\u001b[0m\u001b[1;33m,\u001b[0m\u001b[1;34m'Very Expensive'\u001b[0m\u001b[1;33m]\u001b[0m\u001b[1;33m\u001b[0m\u001b[1;33m\u001b[0m\u001b[0m\n\u001b[1;32m----> 3\u001b[1;33m \u001b[0mrating1\u001b[0m\u001b[1;33m=\u001b[0m\u001b[0mdf\u001b[0m\u001b[1;33m[\u001b[0m\u001b[0mdf\u001b[0m\u001b[1;33m.\u001b[0m\u001b[0mprice\u001b[0m\u001b[1;33m==\u001b[0m\u001b[1;36m0\u001b[0m\u001b[1;33m]\u001b[0m\u001b[1;33m\u001b[0m\u001b[1;33m\u001b[0m\u001b[0m\n\u001b[0m\u001b[0;32m      4\u001b[0m \u001b[0mrating2\u001b[0m\u001b[1;33m=\u001b[0m\u001b[0mdf\u001b[0m\u001b[1;33m[\u001b[0m\u001b[1;33m(\u001b[0m\u001b[0mdf\u001b[0m\u001b[1;33m.\u001b[0m\u001b[0mprice\u001b[0m\u001b[1;33m>\u001b[0m\u001b[1;36m0\u001b[0m\u001b[1;33m)\u001b[0m \u001b[1;33m&\u001b[0m \u001b[1;33m(\u001b[0m\u001b[0mdf\u001b[0m\u001b[1;33m.\u001b[0m\u001b[0mprice\u001b[0m\u001b[1;33m<\u001b[0m\u001b[1;36m20\u001b[0m\u001b[1;33m)\u001b[0m\u001b[1;33m]\u001b[0m\u001b[1;33m\u001b[0m\u001b[1;33m\u001b[0m\u001b[0m\n\u001b[0;32m      5\u001b[0m \u001b[0mrating3\u001b[0m\u001b[1;33m=\u001b[0m\u001b[0mdf\u001b[0m\u001b[1;33m[\u001b[0m\u001b[1;33m(\u001b[0m\u001b[0mdf\u001b[0m\u001b[1;33m.\u001b[0m\u001b[0mprice\u001b[0m\u001b[1;33m>\u001b[0m\u001b[1;36m20\u001b[0m\u001b[1;33m)\u001b[0m \u001b[1;33m&\u001b[0m \u001b[1;33m(\u001b[0m\u001b[0mdf\u001b[0m\u001b[1;33m.\u001b[0m\u001b[0mprice\u001b[0m\u001b[1;33m<\u001b[0m\u001b[1;36m50\u001b[0m\u001b[1;33m)\u001b[0m\u001b[1;33m]\u001b[0m\u001b[1;33m\u001b[0m\u001b[1;33m\u001b[0m\u001b[0m\n",
      "\u001b[1;32mC:\\ProgramData\\Anaconda3\\lib\\site-packages\\pandas\\core\\generic.py\u001b[0m in \u001b[0;36m__getattr__\u001b[1;34m(self, name)\u001b[0m\n\u001b[0;32m   5065\u001b[0m             \u001b[1;32mif\u001b[0m \u001b[0mself\u001b[0m\u001b[1;33m.\u001b[0m\u001b[0m_info_axis\u001b[0m\u001b[1;33m.\u001b[0m\u001b[0m_can_hold_identifiers_and_holds_name\u001b[0m\u001b[1;33m(\u001b[0m\u001b[0mname\u001b[0m\u001b[1;33m)\u001b[0m\u001b[1;33m:\u001b[0m\u001b[1;33m\u001b[0m\u001b[1;33m\u001b[0m\u001b[0m\n\u001b[0;32m   5066\u001b[0m                 \u001b[1;32mreturn\u001b[0m \u001b[0mself\u001b[0m\u001b[1;33m[\u001b[0m\u001b[0mname\u001b[0m\u001b[1;33m]\u001b[0m\u001b[1;33m\u001b[0m\u001b[1;33m\u001b[0m\u001b[0m\n\u001b[1;32m-> 5067\u001b[1;33m             \u001b[1;32mreturn\u001b[0m \u001b[0mobject\u001b[0m\u001b[1;33m.\u001b[0m\u001b[0m__getattribute__\u001b[0m\u001b[1;33m(\u001b[0m\u001b[0mself\u001b[0m\u001b[1;33m,\u001b[0m \u001b[0mname\u001b[0m\u001b[1;33m)\u001b[0m\u001b[1;33m\u001b[0m\u001b[1;33m\u001b[0m\u001b[0m\n\u001b[0m\u001b[0;32m   5068\u001b[0m \u001b[1;33m\u001b[0m\u001b[0m\n\u001b[0;32m   5069\u001b[0m     \u001b[1;32mdef\u001b[0m \u001b[0m__setattr__\u001b[0m\u001b[1;33m(\u001b[0m\u001b[0mself\u001b[0m\u001b[1;33m,\u001b[0m \u001b[0mname\u001b[0m\u001b[1;33m,\u001b[0m \u001b[0mvalue\u001b[0m\u001b[1;33m)\u001b[0m\u001b[1;33m:\u001b[0m\u001b[1;33m\u001b[0m\u001b[1;33m\u001b[0m\u001b[0m\n",
      "\u001b[1;31mAttributeError\u001b[0m: 'DataFrame' object has no attribute 'price'"
     ]
    }
   ],
   "source": [
    "# Draw Pie plot based on labels as  below Price category and values as count of each category apps \n",
    "movies=['Free apps','Affordable Apps','Expensive apps','Very Expensive']\n",
    "rating1=df[df.price==0]\n",
    "rating2=df[(df.price>0) & (df.price<20)]\n",
    "rating3=df[(df.price>20) & (df.price<50)]\n",
    "rating4=df[(df.price>50)]\n",
    "free=rating1.count()[0]\n",
    "af_ap=rating2.count()[0]\n",
    "ea= rating3.count()[0]\n",
    "ve= rating4.count()[0]\n",
    "li=[free,af_ap,ea,ve]\n",
    "plt.pie(li,labels=movies,shadow=True,startangle=90)\n",
    "plt.show()"
   ]
  },
  {
   "cell_type": "code",
   "execution_count": null,
   "metadata": {},
   "outputs": [],
   "source": []
  },
  {
   "cell_type": "code",
   "execution_count": null,
   "metadata": {},
   "outputs": [],
   "source": []
  },
  {
   "cell_type": "code",
   "execution_count": null,
   "metadata": {},
   "outputs": [],
   "source": []
  }
 ],
 "metadata": {
  "kernelspec": {
   "display_name": "Python 3",
   "language": "python",
   "name": "python3"
  },
  "language_info": {
   "codemirror_mode": {
    "name": "ipython",
    "version": 3
   },
   "file_extension": ".py",
   "mimetype": "text/x-python",
   "name": "python",
   "nbconvert_exporter": "python",
   "pygments_lexer": "ipython3",
   "version": "3.7.3"
  }
 },
 "nbformat": 4,
 "nbformat_minor": 2
}
